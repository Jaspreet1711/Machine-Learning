{
  "nbformat": 4,
  "nbformat_minor": 0,
  "metadata": {
    "colab": {
      "name": "Individual_Assignment_FA.ipynb",
      "provenance": [],
      "collapsed_sections": [
        "XzBJypiFLbtP",
        "YL4MVbXMTewx",
        "8qtXmE_SViR2"
      ]
    },
    "kernelspec": {
      "name": "python3",
      "display_name": "Python 3"
    },
    "language_info": {
      "name": "python"
    },
    "accelerator": "GPU"
  },
  "cells": [
    {
      "cell_type": "markdown",
      "source": [
        "# Name: Jaspreet Singh\n",
        "\n",
        "# PGID: 12110053"
      ],
      "metadata": {
        "id": "dA7fxhWvGZaN"
      }
    },
    {
      "cell_type": "code",
      "execution_count": 819,
      "metadata": {
        "id": "1B6yBn0oSz2j"
      },
      "outputs": [],
      "source": [
        "#!pip install openpyxl==3.0.9"
      ]
    },
    {
      "cell_type": "code",
      "source": [
        "#!pip install statsmodels==0.13.1"
      ],
      "metadata": {
        "id": "qTJqKkw-S-3d"
      },
      "execution_count": 820,
      "outputs": []
    },
    {
      "cell_type": "markdown",
      "source": [
        "## Setting up the environment"
      ],
      "metadata": {
        "id": "s7IwPT_7Tj1s"
      }
    },
    {
      "cell_type": "code",
      "source": [
        "import pandas as pd\n",
        "import numpy as np\n",
        "import statsmodels as sm\n",
        "import matplotlib.pyplot as plt\n",
        "import seaborn as sns"
      ],
      "metadata": {
        "id": "fhNRdGetTA6v"
      },
      "execution_count": 821,
      "outputs": []
    },
    {
      "cell_type": "markdown",
      "source": [
        "## Loading the dataset"
      ],
      "metadata": {
        "id": "CEBvew8GTnfC"
      }
    },
    {
      "cell_type": "code",
      "source": [
        "ss = pd.read_excel(\"/content/drive/MyDrive/ISB_AMPBA(2021-2022)/3. Term- 3/Forecasting Analytics/Individual Assignment/SouvenirSales.xlsx\")\n",
        "ss.head()"
      ],
      "metadata": {
        "colab": {
          "base_uri": "https://localhost:8080/",
          "height": 206
        },
        "id": "MU8d_0p4TDcq",
        "outputId": "abe1d777-df76-4da4-d2b5-1cc921adf9be"
      },
      "execution_count": 822,
      "outputs": [
        {
          "output_type": "execute_result",
          "data": {
            "text/html": [
              "\n",
              "  <div id=\"df-90b5d7ea-3e81-4d64-ad3b-9749640e21a0\">\n",
              "    <div class=\"colab-df-container\">\n",
              "      <div>\n",
              "<style scoped>\n",
              "    .dataframe tbody tr th:only-of-type {\n",
              "        vertical-align: middle;\n",
              "    }\n",
              "\n",
              "    .dataframe tbody tr th {\n",
              "        vertical-align: top;\n",
              "    }\n",
              "\n",
              "    .dataframe thead th {\n",
              "        text-align: right;\n",
              "    }\n",
              "</style>\n",
              "<table border=\"1\" class=\"dataframe\">\n",
              "  <thead>\n",
              "    <tr style=\"text-align: right;\">\n",
              "      <th></th>\n",
              "      <th>Date</th>\n",
              "      <th>Sales</th>\n",
              "    </tr>\n",
              "  </thead>\n",
              "  <tbody>\n",
              "    <tr>\n",
              "      <th>0</th>\n",
              "      <td>1995-01-01</td>\n",
              "      <td>1664.81</td>\n",
              "    </tr>\n",
              "    <tr>\n",
              "      <th>1</th>\n",
              "      <td>1995-02-01</td>\n",
              "      <td>2397.53</td>\n",
              "    </tr>\n",
              "    <tr>\n",
              "      <th>2</th>\n",
              "      <td>1995-03-01</td>\n",
              "      <td>2840.71</td>\n",
              "    </tr>\n",
              "    <tr>\n",
              "      <th>3</th>\n",
              "      <td>1995-04-01</td>\n",
              "      <td>3547.29</td>\n",
              "    </tr>\n",
              "    <tr>\n",
              "      <th>4</th>\n",
              "      <td>1995-05-01</td>\n",
              "      <td>3752.96</td>\n",
              "    </tr>\n",
              "  </tbody>\n",
              "</table>\n",
              "</div>\n",
              "      <button class=\"colab-df-convert\" onclick=\"convertToInteractive('df-90b5d7ea-3e81-4d64-ad3b-9749640e21a0')\"\n",
              "              title=\"Convert this dataframe to an interactive table.\"\n",
              "              style=\"display:none;\">\n",
              "        \n",
              "  <svg xmlns=\"http://www.w3.org/2000/svg\" height=\"24px\"viewBox=\"0 0 24 24\"\n",
              "       width=\"24px\">\n",
              "    <path d=\"M0 0h24v24H0V0z\" fill=\"none\"/>\n",
              "    <path d=\"M18.56 5.44l.94 2.06.94-2.06 2.06-.94-2.06-.94-.94-2.06-.94 2.06-2.06.94zm-11 1L8.5 8.5l.94-2.06 2.06-.94-2.06-.94L8.5 2.5l-.94 2.06-2.06.94zm10 10l.94 2.06.94-2.06 2.06-.94-2.06-.94-.94-2.06-.94 2.06-2.06.94z\"/><path d=\"M17.41 7.96l-1.37-1.37c-.4-.4-.92-.59-1.43-.59-.52 0-1.04.2-1.43.59L10.3 9.45l-7.72 7.72c-.78.78-.78 2.05 0 2.83L4 21.41c.39.39.9.59 1.41.59.51 0 1.02-.2 1.41-.59l7.78-7.78 2.81-2.81c.8-.78.8-2.07 0-2.86zM5.41 20L4 18.59l7.72-7.72 1.47 1.35L5.41 20z\"/>\n",
              "  </svg>\n",
              "      </button>\n",
              "      \n",
              "  <style>\n",
              "    .colab-df-container {\n",
              "      display:flex;\n",
              "      flex-wrap:wrap;\n",
              "      gap: 12px;\n",
              "    }\n",
              "\n",
              "    .colab-df-convert {\n",
              "      background-color: #E8F0FE;\n",
              "      border: none;\n",
              "      border-radius: 50%;\n",
              "      cursor: pointer;\n",
              "      display: none;\n",
              "      fill: #1967D2;\n",
              "      height: 32px;\n",
              "      padding: 0 0 0 0;\n",
              "      width: 32px;\n",
              "    }\n",
              "\n",
              "    .colab-df-convert:hover {\n",
              "      background-color: #E2EBFA;\n",
              "      box-shadow: 0px 1px 2px rgba(60, 64, 67, 0.3), 0px 1px 3px 1px rgba(60, 64, 67, 0.15);\n",
              "      fill: #174EA6;\n",
              "    }\n",
              "\n",
              "    [theme=dark] .colab-df-convert {\n",
              "      background-color: #3B4455;\n",
              "      fill: #D2E3FC;\n",
              "    }\n",
              "\n",
              "    [theme=dark] .colab-df-convert:hover {\n",
              "      background-color: #434B5C;\n",
              "      box-shadow: 0px 1px 3px 1px rgba(0, 0, 0, 0.15);\n",
              "      filter: drop-shadow(0px 1px 2px rgba(0, 0, 0, 0.3));\n",
              "      fill: #FFFFFF;\n",
              "    }\n",
              "  </style>\n",
              "\n",
              "      <script>\n",
              "        const buttonEl =\n",
              "          document.querySelector('#df-90b5d7ea-3e81-4d64-ad3b-9749640e21a0 button.colab-df-convert');\n",
              "        buttonEl.style.display =\n",
              "          google.colab.kernel.accessAllowed ? 'block' : 'none';\n",
              "\n",
              "        async function convertToInteractive(key) {\n",
              "          const element = document.querySelector('#df-90b5d7ea-3e81-4d64-ad3b-9749640e21a0');\n",
              "          const dataTable =\n",
              "            await google.colab.kernel.invokeFunction('convertToInteractive',\n",
              "                                                     [key], {});\n",
              "          if (!dataTable) return;\n",
              "\n",
              "          const docLinkHtml = 'Like what you see? Visit the ' +\n",
              "            '<a target=\"_blank\" href=https://colab.research.google.com/notebooks/data_table.ipynb>data table notebook</a>'\n",
              "            + ' to learn more about interactive tables.';\n",
              "          element.innerHTML = '';\n",
              "          dataTable['output_type'] = 'display_data';\n",
              "          await google.colab.output.renderOutput(dataTable, element);\n",
              "          const docLink = document.createElement('div');\n",
              "          docLink.innerHTML = docLinkHtml;\n",
              "          element.appendChild(docLink);\n",
              "        }\n",
              "      </script>\n",
              "    </div>\n",
              "  </div>\n",
              "  "
            ],
            "text/plain": [
              "        Date    Sales\n",
              "0 1995-01-01  1664.81\n",
              "1 1995-02-01  2397.53\n",
              "2 1995-03-01  2840.71\n",
              "3 1995-04-01  3547.29\n",
              "4 1995-05-01  3752.96"
            ]
          },
          "metadata": {},
          "execution_count": 822
        }
      ]
    },
    {
      "cell_type": "code",
      "source": [
        "ss['Date'] = pd.to_datetime(ss['Date'])\n",
        "ss.info()"
      ],
      "metadata": {
        "colab": {
          "base_uri": "https://localhost:8080/"
        },
        "id": "__TAE-_uTIyQ",
        "outputId": "496831f8-54fc-4d99-b6cc-434bbbd9cb48"
      },
      "execution_count": 823,
      "outputs": [
        {
          "output_type": "stream",
          "name": "stdout",
          "text": [
            "<class 'pandas.core.frame.DataFrame'>\n",
            "RangeIndex: 84 entries, 0 to 83\n",
            "Data columns (total 2 columns):\n",
            " #   Column  Non-Null Count  Dtype         \n",
            "---  ------  --------------  -----         \n",
            " 0   Date    84 non-null     datetime64[ns]\n",
            " 1   Sales   84 non-null     float64       \n",
            "dtypes: datetime64[ns](1), float64(1)\n",
            "memory usage: 1.4 KB\n"
          ]
        }
      ]
    },
    {
      "cell_type": "markdown",
      "source": [
        "### Checking the null values in data set"
      ],
      "metadata": {
        "id": "NMrGcGDuTXiU"
      }
    },
    {
      "cell_type": "code",
      "source": [
        "ss.isnull().sum()"
      ],
      "metadata": {
        "colab": {
          "base_uri": "https://localhost:8080/"
        },
        "id": "vOcMS0CYTQBV",
        "outputId": "42a8b9fd-5bb2-4285-d48c-4374c08f2ad5"
      },
      "execution_count": 824,
      "outputs": [
        {
          "output_type": "execute_result",
          "data": {
            "text/plain": [
              "Date     0\n",
              "Sales    0\n",
              "dtype: int64"
            ]
          },
          "metadata": {},
          "execution_count": 824
        }
      ]
    },
    {
      "cell_type": "markdown",
      "source": [
        "## Setting the date column as index"
      ],
      "metadata": {
        "id": "i5OQVhMETuGs"
      }
    },
    {
      "cell_type": "code",
      "source": [
        "ss.set_index('Date')"
      ],
      "metadata": {
        "colab": {
          "base_uri": "https://localhost:8080/",
          "height": 454
        },
        "id": "NOcrg7eWTR6F",
        "outputId": "3ce0bf07-66ac-47f5-ec90-ea51ccc898c7"
      },
      "execution_count": 825,
      "outputs": [
        {
          "output_type": "execute_result",
          "data": {
            "text/html": [
              "\n",
              "  <div id=\"df-3d89ebe7-78b8-4f7e-a27a-e36971e65ef0\">\n",
              "    <div class=\"colab-df-container\">\n",
              "      <div>\n",
              "<style scoped>\n",
              "    .dataframe tbody tr th:only-of-type {\n",
              "        vertical-align: middle;\n",
              "    }\n",
              "\n",
              "    .dataframe tbody tr th {\n",
              "        vertical-align: top;\n",
              "    }\n",
              "\n",
              "    .dataframe thead th {\n",
              "        text-align: right;\n",
              "    }\n",
              "</style>\n",
              "<table border=\"1\" class=\"dataframe\">\n",
              "  <thead>\n",
              "    <tr style=\"text-align: right;\">\n",
              "      <th></th>\n",
              "      <th>Sales</th>\n",
              "    </tr>\n",
              "    <tr>\n",
              "      <th>Date</th>\n",
              "      <th></th>\n",
              "    </tr>\n",
              "  </thead>\n",
              "  <tbody>\n",
              "    <tr>\n",
              "      <th>1995-01-01</th>\n",
              "      <td>1664.81</td>\n",
              "    </tr>\n",
              "    <tr>\n",
              "      <th>1995-02-01</th>\n",
              "      <td>2397.53</td>\n",
              "    </tr>\n",
              "    <tr>\n",
              "      <th>1995-03-01</th>\n",
              "      <td>2840.71</td>\n",
              "    </tr>\n",
              "    <tr>\n",
              "      <th>1995-04-01</th>\n",
              "      <td>3547.29</td>\n",
              "    </tr>\n",
              "    <tr>\n",
              "      <th>1995-05-01</th>\n",
              "      <td>3752.96</td>\n",
              "    </tr>\n",
              "    <tr>\n",
              "      <th>...</th>\n",
              "      <td>...</td>\n",
              "    </tr>\n",
              "    <tr>\n",
              "      <th>2001-08-01</th>\n",
              "      <td>28586.52</td>\n",
              "    </tr>\n",
              "    <tr>\n",
              "      <th>2001-09-01</th>\n",
              "      <td>30505.41</td>\n",
              "    </tr>\n",
              "    <tr>\n",
              "      <th>2001-10-01</th>\n",
              "      <td>30821.33</td>\n",
              "    </tr>\n",
              "    <tr>\n",
              "      <th>2001-11-01</th>\n",
              "      <td>46634.38</td>\n",
              "    </tr>\n",
              "    <tr>\n",
              "      <th>2001-12-01</th>\n",
              "      <td>104660.67</td>\n",
              "    </tr>\n",
              "  </tbody>\n",
              "</table>\n",
              "<p>84 rows × 1 columns</p>\n",
              "</div>\n",
              "      <button class=\"colab-df-convert\" onclick=\"convertToInteractive('df-3d89ebe7-78b8-4f7e-a27a-e36971e65ef0')\"\n",
              "              title=\"Convert this dataframe to an interactive table.\"\n",
              "              style=\"display:none;\">\n",
              "        \n",
              "  <svg xmlns=\"http://www.w3.org/2000/svg\" height=\"24px\"viewBox=\"0 0 24 24\"\n",
              "       width=\"24px\">\n",
              "    <path d=\"M0 0h24v24H0V0z\" fill=\"none\"/>\n",
              "    <path d=\"M18.56 5.44l.94 2.06.94-2.06 2.06-.94-2.06-.94-.94-2.06-.94 2.06-2.06.94zm-11 1L8.5 8.5l.94-2.06 2.06-.94-2.06-.94L8.5 2.5l-.94 2.06-2.06.94zm10 10l.94 2.06.94-2.06 2.06-.94-2.06-.94-.94-2.06-.94 2.06-2.06.94z\"/><path d=\"M17.41 7.96l-1.37-1.37c-.4-.4-.92-.59-1.43-.59-.52 0-1.04.2-1.43.59L10.3 9.45l-7.72 7.72c-.78.78-.78 2.05 0 2.83L4 21.41c.39.39.9.59 1.41.59.51 0 1.02-.2 1.41-.59l7.78-7.78 2.81-2.81c.8-.78.8-2.07 0-2.86zM5.41 20L4 18.59l7.72-7.72 1.47 1.35L5.41 20z\"/>\n",
              "  </svg>\n",
              "      </button>\n",
              "      \n",
              "  <style>\n",
              "    .colab-df-container {\n",
              "      display:flex;\n",
              "      flex-wrap:wrap;\n",
              "      gap: 12px;\n",
              "    }\n",
              "\n",
              "    .colab-df-convert {\n",
              "      background-color: #E8F0FE;\n",
              "      border: none;\n",
              "      border-radius: 50%;\n",
              "      cursor: pointer;\n",
              "      display: none;\n",
              "      fill: #1967D2;\n",
              "      height: 32px;\n",
              "      padding: 0 0 0 0;\n",
              "      width: 32px;\n",
              "    }\n",
              "\n",
              "    .colab-df-convert:hover {\n",
              "      background-color: #E2EBFA;\n",
              "      box-shadow: 0px 1px 2px rgba(60, 64, 67, 0.3), 0px 1px 3px 1px rgba(60, 64, 67, 0.15);\n",
              "      fill: #174EA6;\n",
              "    }\n",
              "\n",
              "    [theme=dark] .colab-df-convert {\n",
              "      background-color: #3B4455;\n",
              "      fill: #D2E3FC;\n",
              "    }\n",
              "\n",
              "    [theme=dark] .colab-df-convert:hover {\n",
              "      background-color: #434B5C;\n",
              "      box-shadow: 0px 1px 3px 1px rgba(0, 0, 0, 0.15);\n",
              "      filter: drop-shadow(0px 1px 2px rgba(0, 0, 0, 0.3));\n",
              "      fill: #FFFFFF;\n",
              "    }\n",
              "  </style>\n",
              "\n",
              "      <script>\n",
              "        const buttonEl =\n",
              "          document.querySelector('#df-3d89ebe7-78b8-4f7e-a27a-e36971e65ef0 button.colab-df-convert');\n",
              "        buttonEl.style.display =\n",
              "          google.colab.kernel.accessAllowed ? 'block' : 'none';\n",
              "\n",
              "        async function convertToInteractive(key) {\n",
              "          const element = document.querySelector('#df-3d89ebe7-78b8-4f7e-a27a-e36971e65ef0');\n",
              "          const dataTable =\n",
              "            await google.colab.kernel.invokeFunction('convertToInteractive',\n",
              "                                                     [key], {});\n",
              "          if (!dataTable) return;\n",
              "\n",
              "          const docLinkHtml = 'Like what you see? Visit the ' +\n",
              "            '<a target=\"_blank\" href=https://colab.research.google.com/notebooks/data_table.ipynb>data table notebook</a>'\n",
              "            + ' to learn more about interactive tables.';\n",
              "          element.innerHTML = '';\n",
              "          dataTable['output_type'] = 'display_data';\n",
              "          await google.colab.output.renderOutput(dataTable, element);\n",
              "          const docLink = document.createElement('div');\n",
              "          docLink.innerHTML = docLinkHtml;\n",
              "          element.appendChild(docLink);\n",
              "        }\n",
              "      </script>\n",
              "    </div>\n",
              "  </div>\n",
              "  "
            ],
            "text/plain": [
              "                Sales\n",
              "Date                 \n",
              "1995-01-01    1664.81\n",
              "1995-02-01    2397.53\n",
              "1995-03-01    2840.71\n",
              "1995-04-01    3547.29\n",
              "1995-05-01    3752.96\n",
              "...               ...\n",
              "2001-08-01   28586.52\n",
              "2001-09-01   30505.41\n",
              "2001-10-01   30821.33\n",
              "2001-11-01   46634.38\n",
              "2001-12-01  104660.67\n",
              "\n",
              "[84 rows x 1 columns]"
            ]
          },
          "metadata": {},
          "execution_count": 825
        }
      ]
    },
    {
      "cell_type": "markdown",
      "source": [
        "# Q1"
      ],
      "metadata": {
        "id": "PrkcC0DLCHHH"
      }
    },
    {
      "cell_type": "markdown",
      "source": [
        "# Part A\n",
        "Plot the time series of the original data. Which time series components appear from the plot."
      ],
      "metadata": {
        "id": "zhkIDJQWT6GT"
      }
    },
    {
      "cell_type": "markdown",
      "source": [
        "## Time Series Plot"
      ],
      "metadata": {
        "id": "cSz_qQpeUB01"
      }
    },
    {
      "cell_type": "code",
      "source": [
        "plt.plot(ss.Sales)"
      ],
      "metadata": {
        "colab": {
          "base_uri": "https://localhost:8080/",
          "height": 283
        },
        "id": "8eRQBYmcUBCU",
        "outputId": "6d12af0c-b4c4-4b7e-ab38-0155bf4440d3"
      },
      "execution_count": 826,
      "outputs": [
        {
          "output_type": "execute_result",
          "data": {
            "text/plain": [
              "[<matplotlib.lines.Line2D at 0x7f28378d8890>]"
            ]
          },
          "metadata": {},
          "execution_count": 826
        },
        {
          "output_type": "display_data",
          "data": {
            "image/png": "[encoded data removed]",
            "text/plain": [
              "<Figure size 432x288 with 1 Axes>"
            ]
          },
          "metadata": {
            "needs_background": "light"
          }
        }
      ]
    },
    {
      "cell_type": "markdown",
      "source": [
        "### We can clearly see trend and seasonality in our data set. As Trend is increasing magnitude of seasonality is also increasing."
      ],
      "metadata": {
        "id": "GZtLxNi9UO6x"
      }
    },
    {
      "cell_type": "markdown",
      "source": [
        "## Let us decompose the data to see components properly"
      ],
      "metadata": {
        "id": "h8gUPppUUUrV"
      }
    },
    {
      "cell_type": "code",
      "source": [
        "from statsmodels.tsa.seasonal import seasonal_decompose"
      ],
      "metadata": {
        "id": "RyfMwDVmT5cC"
      },
      "execution_count": 827,
      "outputs": []
    },
    {
      "cell_type": "code",
      "source": [
        "# Decompose and plot using additive approach\n",
        "add_decomposed = seasonal_decompose(ss['Sales'], model='additive', period = 12)\n",
        "add_decomposed.plot();"
      ],
      "metadata": {
        "colab": {
          "base_uri": "https://localhost:8080/",
          "height": 297
        },
        "id": "vvV0AF6lTTVR",
        "outputId": "fa882b1f-da05-4599-cdaf-d54b570d5198"
      },
      "execution_count": 828,
      "outputs": [
        {
          "output_type": "display_data",
          "data": {
            "image/png": "[encoded data removed]",
            "text/plain": [
              "<Figure size 432x288 with 4 Axes>"
            ]
          },
          "metadata": {
            "needs_background": "light"
          }
        }
      ]
    },
    {
      "cell_type": "code",
      "source": [
        "# Decompose and plot using multiplicative approach\n",
        "multi_decomposed = seasonal_decompose(ss['Sales'], model='multiplicative', period = 12)\n",
        "multi_decomposed.plot();"
      ],
      "metadata": {
        "colab": {
          "base_uri": "https://localhost:8080/",
          "height": 297
        },
        "id": "PrvJQ6KXUnMg",
        "outputId": "08b5e5d6-dc08-475f-c2a2-07ebbe441f94"
      },
      "execution_count": 829,
      "outputs": [
        {
          "output_type": "display_data",
          "data": {
            "image/png": "[encoded data removed]",
            "text/plain": [
              "<Figure size 432x288 with 4 Axes>"
            ]
          },
          "metadata": {
            "needs_background": "light"
          }
        }
      ]
    },
    {
      "cell_type": "markdown",
      "source": [
        "### Components visible are:\n",
        "    1. Trend (Upward)\n",
        "    2. Seasonality (Every 12 months)\n",
        "    3. Residual (Random or irregular)\n",
        "\n",
        "### We can see trend going up and seasonality in every 12 months (freq) in both the approaches. Though in additive decomposition residual was uniform but in last few years we can see spike this indicates that additive cannot explain the increase in magnitude of seasonality in last few years.  "
      ],
      "metadata": {
        "id": "qWyc8VuBU6b5"
      }
    },
    {
      "cell_type": "markdown",
      "source": [
        "# Part B"
      ],
      "metadata": {
        "id": "kSWD_fyaW5hd"
      }
    },
    {
      "cell_type": "markdown",
      "source": [
        "Fit a linear trend model with additive seasonality (Model A) and exponential trend\n",
        "model with multiplicative seasonality (Model B). Consider January as the reference\n",
        "group for each model. Produce the regression coefficients and the validation set\n",
        "errors. Remember to fit only the training period."
      ],
      "metadata": {
        "id": "5CXmEhq5XR3P"
      }
    },
    {
      "cell_type": "markdown",
      "source": [
        "## Solution Part B\n",
        "We will be computing:\n",
        "\n",
        "-> Seasonality:\n",
        "\n",
        "I. Additive Seasonality (add_season_prediction)  \n",
        "     \n",
        "    I.A. Dummy Variables for months created and Linear Regression fit\n",
        "    I.B. Coeff of Months against sales (Refer month is Jan)\n",
        "    I.C. Plotted Additive Seasonality against validation data\n",
        "\n",
        "II. Multiplicative Seasonality (log form = mul_season_prediction_log, orignal = mul_season_prediction)\n",
        "\n",
        "    II.A. Converted Sales to Log and Linear Regression fit\n",
        "    II.B. Coeff of Months against sales (Refer month is Jan)\n",
        "    II.C. Plotted Multiplicative Seasonality against validation data\n",
        "\n",
        "-> Trend:\n",
        "\n",
        "III. Linear Trend (lin_trend_prediction)\n",
        "    \n",
        "    III.A. Made Time Period (t) column and Linear Regression fit\n",
        "    III.B. Coeff of Time Period(t) against monthly sales\n",
        "    III.C. Plotted Linear Trend against validation data\n",
        "\n",
        "IV. Exponential Trend (exp_trend_prediction)\n",
        "\n",
        "    IV.A. Time Period (independent) & Log Sales (Dependent) and Linear Regression fit\n",
        "    IV.B. Coeff of Time Period(t) against monthly sales\n",
        "    IV.C. Plotted Linear Trend against validation data \n",
        "\n",
        "In the end refer dataframe \"ss_lr_df\" for all the calculation mentioned above. In the bracket I have mentioned the column names present in the dataframe.\n",
        "\n",
        "\n",
        "-> Models:\n",
        "\n",
        "V. Model A - Linear Trend and Additive Seasonality Model (III. + I.)\n",
        "\n",
        "    V.A. Computing Model A (Model_A_Pred) \n",
        "    V.B. Ploting Model A Prediction against Test (Validation) Data \n",
        "    V.C. Errors (Diff btw Model A Prediction and test (actual) sales)\n",
        "\n",
        "VI. Model B - Exponential Trend and Multiplicative Seasonality Model (IV. + II.)\n",
        "\n",
        "    VI.A. Computing Model B (Model_B_Pred)\n",
        "    VI.B. Ploting Model B Prediction against Test (Validation) Data\n",
        "    V.C. Errors (Diff btw Model B Prediction and test (actual) sales)\n"
      ],
      "metadata": {
        "id": "R-AvGfXz7CJq"
      }
    },
    {
      "cell_type": "markdown",
      "source": [
        "### Creating Dummy Variable for seasonality (I - Additive and II - Multiplicative)"
      ],
      "metadata": {
        "id": "sSN4ZGspbJAe"
      }
    },
    {
      "cell_type": "code",
      "source": [
        "# Set the frequency of the date time index as Monthly start as indicated by the data\n",
        "ss.index.freq = 'ms'"
      ],
      "metadata": {
        "id": "bK8vrAlKcypY"
      },
      "execution_count": 830,
      "outputs": []
    },
    {
      "cell_type": "code",
      "source": [
        "# Creating Month Column \n",
        "ss['month'] = pd.to_datetime(ss['Date'], format = '%Y/%m/%d').dt.strftime('%B')\n",
        "ss.head()"
      ],
      "metadata": {
        "colab": {
          "base_uri": "https://localhost:8080/",
          "height": 206
        },
        "id": "ofeOwm3LcOVv",
        "outputId": "b3748a73-9de8-4018-e645-6f6dd78ca531"
      },
      "execution_count": 831,
      "outputs": [
        {
          "output_type": "execute_result",
          "data": {
            "text/html": [
              "\n",
              "  <div id=\"df-c009fbdb-e41e-43fa-9697-b76dbe0ba282\">\n",
              "    <div class=\"colab-df-container\">\n",
              "      <div>\n",
              "<style scoped>\n",
              "    .dataframe tbody tr th:only-of-type {\n",
              "        vertical-align: middle;\n",
              "    }\n",
              "\n",
              "    .dataframe tbody tr th {\n",
              "        vertical-align: top;\n",
              "    }\n",
              "\n",
              "    .dataframe thead th {\n",
              "        text-align: right;\n",
              "    }\n",
              "</style>\n",
              "<table border=\"1\" class=\"dataframe\">\n",
              "  <thead>\n",
              "    <tr style=\"text-align: right;\">\n",
              "      <th></th>\n",
              "      <th>Date</th>\n",
              "      <th>Sales</th>\n",
              "      <th>month</th>\n",
              "    </tr>\n",
              "  </thead>\n",
              "  <tbody>\n",
              "    <tr>\n",
              "      <th>0</th>\n",
              "      <td>1995-01-01</td>\n",
              "      <td>1664.81</td>\n",
              "      <td>January</td>\n",
              "    </tr>\n",
              "    <tr>\n",
              "      <th>1</th>\n",
              "      <td>1995-02-01</td>\n",
              "      <td>2397.53</td>\n",
              "      <td>February</td>\n",
              "    </tr>\n",
              "    <tr>\n",
              "      <th>2</th>\n",
              "      <td>1995-03-01</td>\n",
              "      <td>2840.71</td>\n",
              "      <td>March</td>\n",
              "    </tr>\n",
              "    <tr>\n",
              "      <th>3</th>\n",
              "      <td>1995-04-01</td>\n",
              "      <td>3547.29</td>\n",
              "      <td>April</td>\n",
              "    </tr>\n",
              "    <tr>\n",
              "      <th>4</th>\n",
              "      <td>1995-05-01</td>\n",
              "      <td>3752.96</td>\n",
              "      <td>May</td>\n",
              "    </tr>\n",
              "  </tbody>\n",
              "</table>\n",
              "</div>\n",
              "      <button class=\"colab-df-convert\" onclick=\"convertToInteractive('df-c009fbdb-e41e-43fa-9697-b76dbe0ba282')\"\n",
              "              title=\"Convert this dataframe to an interactive table.\"\n",
              "              style=\"display:none;\">\n",
              "        \n",
              "  <svg xmlns=\"http://www.w3.org/2000/svg\" height=\"24px\"viewBox=\"0 0 24 24\"\n",
              "       width=\"24px\">\n",
              "    <path d=\"M0 0h24v24H0V0z\" fill=\"none\"/>\n",
              "    <path d=\"M18.56 5.44l.94 2.06.94-2.06 2.06-.94-2.06-.94-.94-2.06-.94 2.06-2.06.94zm-11 1L8.5 8.5l.94-2.06 2.06-.94-2.06-.94L8.5 2.5l-.94 2.06-2.06.94zm10 10l.94 2.06.94-2.06 2.06-.94-2.06-.94-.94-2.06-.94 2.06-2.06.94z\"/><path d=\"M17.41 7.96l-1.37-1.37c-.4-.4-.92-.59-1.43-.59-.52 0-1.04.2-1.43.59L10.3 9.45l-7.72 7.72c-.78.78-.78 2.05 0 2.83L4 21.41c.39.39.9.59 1.41.59.51 0 1.02-.2 1.41-.59l7.78-7.78 2.81-2.81c.8-.78.8-2.07 0-2.86zM5.41 20L4 18.59l7.72-7.72 1.47 1.35L5.41 20z\"/>\n",
              "  </svg>\n",
              "      </button>\n",
              "      \n",
              "  <style>\n",
              "    .colab-df-container {\n",
              "      display:flex;\n",
              "      flex-wrap:wrap;\n",
              "      gap: 12px;\n",
              "    }\n",
              "\n",
              "    .colab-df-convert {\n",
              "      background-color: #E8F0FE;\n",
              "      border: none;\n",
              "      border-radius: 50%;\n",
              "      cursor: pointer;\n",
              "      display: none;\n",
              "      fill: #1967D2;\n",
              "      height: 32px;\n",
              "      padding: 0 0 0 0;\n",
              "      width: 32px;\n",
              "    }\n",
              "\n",
              "    .colab-df-convert:hover {\n",
              "      background-color: #E2EBFA;\n",
              "      box-shadow: 0px 1px 2px rgba(60, 64, 67, 0.3), 0px 1px 3px 1px rgba(60, 64, 67, 0.15);\n",
              "      fill: #174EA6;\n",
              "    }\n",
              "\n",
              "    [theme=dark] .colab-df-convert {\n",
              "      background-color: #3B4455;\n",
              "      fill: #D2E3FC;\n",
              "    }\n",
              "\n",
              "    [theme=dark] .colab-df-convert:hover {\n",
              "      background-color: #434B5C;\n",
              "      box-shadow: 0px 1px 3px 1px rgba(0, 0, 0, 0.15);\n",
              "      filter: drop-shadow(0px 1px 2px rgba(0, 0, 0, 0.3));\n",
              "      fill: #FFFFFF;\n",
              "    }\n",
              "  </style>\n",
              "\n",
              "      <script>\n",
              "        const buttonEl =\n",
              "          document.querySelector('#df-c009fbdb-e41e-43fa-9697-b76dbe0ba282 button.colab-df-convert');\n",
              "        buttonEl.style.display =\n",
              "          google.colab.kernel.accessAllowed ? 'block' : 'none';\n",
              "\n",
              "        async function convertToInteractive(key) {\n",
              "          const element = document.querySelector('#df-c009fbdb-e41e-43fa-9697-b76dbe0ba282');\n",
              "          const dataTable =\n",
              "            await google.colab.kernel.invokeFunction('convertToInteractive',\n",
              "                                                     [key], {});\n",
              "          if (!dataTable) return;\n",
              "\n",
              "          const docLinkHtml = 'Like what you see? Visit the ' +\n",
              "            '<a target=\"_blank\" href=https://colab.research.google.com/notebooks/data_table.ipynb>data table notebook</a>'\n",
              "            + ' to learn more about interactive tables.';\n",
              "          element.innerHTML = '';\n",
              "          dataTable['output_type'] = 'display_data';\n",
              "          await google.colab.output.renderOutput(dataTable, element);\n",
              "          const docLink = document.createElement('div');\n",
              "          docLink.innerHTML = docLinkHtml;\n",
              "          element.appendChild(docLink);\n",
              "        }\n",
              "      </script>\n",
              "    </div>\n",
              "  </div>\n",
              "  "
            ],
            "text/plain": [
              "        Date    Sales     month\n",
              "0 1995-01-01  1664.81   January\n",
              "1 1995-02-01  2397.53  February\n",
              "2 1995-03-01  2840.71     March\n",
              "3 1995-04-01  3547.29     April\n",
              "4 1995-05-01  3752.96       May"
            ]
          },
          "metadata": {},
          "execution_count": 831
        }
      ]
    },
    {
      "cell_type": "code",
      "source": [
        "ss['feb'] = ss['month'].apply(lambda x: 1 if \"february\" in x.lower() else 0)\n",
        "ss['mar'] = ss['month'].apply(lambda x: 1 if \"march\" in x.lower() else 0)\n",
        "ss['apr'] = ss['month'].apply(lambda x: 1 if \"april\" in x.lower() else 0)\n",
        "ss['may'] = ss['month'].apply(lambda x: 1 if \"may\" in x.lower() else 0)\n",
        "ss['jun'] = ss['month'].apply(lambda x: 1 if \"june\" in x.lower() else 0)\n",
        "ss['jul'] = ss['month'].apply(lambda x: 1 if \"july\" in x.lower() else 0)\n",
        "ss['aug'] = ss['month'].apply(lambda x: 1 if \"august\" in x.lower() else 0)\n",
        "ss['sep'] = ss['month'].apply(lambda x: 1 if \"september\" in x.lower() else 0)\n",
        "ss['oct'] = ss['month'].apply(lambda x: 1 if \"october\" in x.lower() else 0)\n",
        "ss['nov'] = ss['month'].apply(lambda x: 1 if \"november\" in x.lower() else 0)\n",
        "ss['dec'] = ss['month'].apply(lambda x: 1 if \"december\" in x.lower() else 0)\n",
        "\n",
        "ss.head()"
      ],
      "metadata": {
        "colab": {
          "base_uri": "https://localhost:8080/",
          "height": 206
        },
        "id": "3YvwMGmEbPrP",
        "outputId": "ce2bb254-0075-44b9-b673-c3a9227d4526"
      },
      "execution_count": 832,
      "outputs": [
        {
          "output_type": "execute_result",
          "data": {
            "text/html": [
              "\n",
              "  <div id=\"df-6907bbdd-2e37-4006-ac62-0198dcdfb521\">\n",
              "    <div class=\"colab-df-container\">\n",
              "      <div>\n",
              "<style scoped>\n",
              "    .dataframe tbody tr th:only-of-type {\n",
              "        vertical-align: middle;\n",
              "    }\n",
              "\n",
              "    .dataframe tbody tr th {\n",
              "        vertical-align: top;\n",
              "    }\n",
              "\n",
              "    .dataframe thead th {\n",
              "        text-align: right;\n",
              "    }\n",
              "</style>\n",
              "<table border=\"1\" class=\"dataframe\">\n",
              "  <thead>\n",
              "    <tr style=\"text-align: right;\">\n",
              "      <th></th>\n",
              "      <th>Date</th>\n",
              "      <th>Sales</th>\n",
              "      <th>month</th>\n",
              "      <th>feb</th>\n",
              "      <th>mar</th>\n",
              "      <th>apr</th>\n",
              "      <th>may</th>\n",
              "      <th>jun</th>\n",
              "      <th>jul</th>\n",
              "      <th>aug</th>\n",
              "      <th>sep</th>\n",
              "      <th>oct</th>\n",
              "      <th>nov</th>\n",
              "      <th>dec</th>\n",
              "    </tr>\n",
              "  </thead>\n",
              "  <tbody>\n",
              "    <tr>\n",
              "      <th>0</th>\n",
              "      <td>1995-01-01</td>\n",
              "      <td>1664.81</td>\n",
              "      <td>January</td>\n",
              "      <td>0</td>\n",
              "      <td>0</td>\n",
              "      <td>0</td>\n",
              "      <td>0</td>\n",
              "      <td>0</td>\n",
              "      <td>0</td>\n",
              "      <td>0</td>\n",
              "      <td>0</td>\n",
              "      <td>0</td>\n",
              "      <td>0</td>\n",
              "      <td>0</td>\n",
              "    </tr>\n",
              "    <tr>\n",
              "      <th>1</th>\n",
              "      <td>1995-02-01</td>\n",
              "      <td>2397.53</td>\n",
              "      <td>February</td>\n",
              "      <td>1</td>\n",
              "      <td>0</td>\n",
              "      <td>0</td>\n",
              "      <td>0</td>\n",
              "      <td>0</td>\n",
              "      <td>0</td>\n",
              "      <td>0</td>\n",
              "      <td>0</td>\n",
              "      <td>0</td>\n",
              "      <td>0</td>\n",
              "      <td>0</td>\n",
              "    </tr>\n",
              "    <tr>\n",
              "      <th>2</th>\n",
              "      <td>1995-03-01</td>\n",
              "      <td>2840.71</td>\n",
              "      <td>March</td>\n",
              "      <td>0</td>\n",
              "      <td>1</td>\n",
              "      <td>0</td>\n",
              "      <td>0</td>\n",
              "      <td>0</td>\n",
              "      <td>0</td>\n",
              "      <td>0</td>\n",
              "      <td>0</td>\n",
              "      <td>0</td>\n",
              "      <td>0</td>\n",
              "      <td>0</td>\n",
              "    </tr>\n",
              "    <tr>\n",
              "      <th>3</th>\n",
              "      <td>1995-04-01</td>\n",
              "      <td>3547.29</td>\n",
              "      <td>April</td>\n",
              "      <td>0</td>\n",
              "      <td>0</td>\n",
              "      <td>1</td>\n",
              "      <td>0</td>\n",
              "      <td>0</td>\n",
              "      <td>0</td>\n",
              "      <td>0</td>\n",
              "      <td>0</td>\n",
              "      <td>0</td>\n",
              "      <td>0</td>\n",
              "      <td>0</td>\n",
              "    </tr>\n",
              "    <tr>\n",
              "      <th>4</th>\n",
              "      <td>1995-05-01</td>\n",
              "      <td>3752.96</td>\n",
              "      <td>May</td>\n",
              "      <td>0</td>\n",
              "      <td>0</td>\n",
              "      <td>0</td>\n",
              "      <td>1</td>\n",
              "      <td>0</td>\n",
              "      <td>0</td>\n",
              "      <td>0</td>\n",
              "      <td>0</td>\n",
              "      <td>0</td>\n",
              "      <td>0</td>\n",
              "      <td>0</td>\n",
              "    </tr>\n",
              "  </tbody>\n",
              "</table>\n",
              "</div>\n",
              "      <button class=\"colab-df-convert\" onclick=\"convertToInteractive('df-6907bbdd-2e37-4006-ac62-0198dcdfb521')\"\n",
              "              title=\"Convert this dataframe to an interactive table.\"\n",
              "              style=\"display:none;\">\n",
              "        \n",
              "  <svg xmlns=\"http://www.w3.org/2000/svg\" height=\"24px\"viewBox=\"0 0 24 24\"\n",
              "       width=\"24px\">\n",
              "    <path d=\"M0 0h24v24H0V0z\" fill=\"none\"/>\n",
              "    <path d=\"M18.56 5.44l.94 2.06.94-2.06 2.06-.94-2.06-.94-.94-2.06-.94 2.06-2.06.94zm-11 1L8.5 8.5l.94-2.06 2.06-.94-2.06-.94L8.5 2.5l-.94 2.06-2.06.94zm10 10l.94 2.06.94-2.06 2.06-.94-2.06-.94-.94-2.06-.94 2.06-2.06.94z\"/><path d=\"M17.41 7.96l-1.37-1.37c-.4-.4-.92-.59-1.43-.59-.52 0-1.04.2-1.43.59L10.3 9.45l-7.72 7.72c-.78.78-.78 2.05 0 2.83L4 21.41c.39.39.9.59 1.41.59.51 0 1.02-.2 1.41-.59l7.78-7.78 2.81-2.81c.8-.78.8-2.07 0-2.86zM5.41 20L4 18.59l7.72-7.72 1.47 1.35L5.41 20z\"/>\n",
              "  </svg>\n",
              "      </button>\n",
              "      \n",
              "  <style>\n",
              "    .colab-df-container {\n",
              "      display:flex;\n",
              "      flex-wrap:wrap;\n",
              "      gap: 12px;\n",
              "    }\n",
              "\n",
              "    .colab-df-convert {\n",
              "      background-color: #E8F0FE;\n",
              "      border: none;\n",
              "      border-radius: 50%;\n",
              "      cursor: pointer;\n",
              "      display: none;\n",
              "      fill: #1967D2;\n",
              "      height: 32px;\n",
              "      padding: 0 0 0 0;\n",
              "      width: 32px;\n",
              "    }\n",
              "\n",
              "    .colab-df-convert:hover {\n",
              "      background-color: #E2EBFA;\n",
              "      box-shadow: 0px 1px 2px rgba(60, 64, 67, 0.3), 0px 1px 3px 1px rgba(60, 64, 67, 0.15);\n",
              "      fill: #174EA6;\n",
              "    }\n",
              "\n",
              "    [theme=dark] .colab-df-convert {\n",
              "      background-color: #3B4455;\n",
              "      fill: #D2E3FC;\n",
              "    }\n",
              "\n",
              "    [theme=dark] .colab-df-convert:hover {\n",
              "      background-color: #434B5C;\n",
              "      box-shadow: 0px 1px 3px 1px rgba(0, 0, 0, 0.15);\n",
              "      filter: drop-shadow(0px 1px 2px rgba(0, 0, 0, 0.3));\n",
              "      fill: #FFFFFF;\n",
              "    }\n",
              "  </style>\n",
              "\n",
              "      <script>\n",
              "        const buttonEl =\n",
              "          document.querySelector('#df-6907bbdd-2e37-4006-ac62-0198dcdfb521 button.colab-df-convert');\n",
              "        buttonEl.style.display =\n",
              "          google.colab.kernel.accessAllowed ? 'block' : 'none';\n",
              "\n",
              "        async function convertToInteractive(key) {\n",
              "          const element = document.querySelector('#df-6907bbdd-2e37-4006-ac62-0198dcdfb521');\n",
              "          const dataTable =\n",
              "            await google.colab.kernel.invokeFunction('convertToInteractive',\n",
              "                                                     [key], {});\n",
              "          if (!dataTable) return;\n",
              "\n",
              "          const docLinkHtml = 'Like what you see? Visit the ' +\n",
              "            '<a target=\"_blank\" href=https://colab.research.google.com/notebooks/data_table.ipynb>data table notebook</a>'\n",
              "            + ' to learn more about interactive tables.';\n",
              "          element.innerHTML = '';\n",
              "          dataTable['output_type'] = 'display_data';\n",
              "          await google.colab.output.renderOutput(dataTable, element);\n",
              "          const docLink = document.createElement('div');\n",
              "          docLink.innerHTML = docLinkHtml;\n",
              "          element.appendChild(docLink);\n",
              "        }\n",
              "      </script>\n",
              "    </div>\n",
              "  </div>\n",
              "  "
            ],
            "text/plain": [
              "        Date    Sales     month  feb  mar  apr  ...  jul  aug  sep  oct  nov  dec\n",
              "0 1995-01-01  1664.81   January    0    0    0  ...    0    0    0    0    0    0\n",
              "1 1995-02-01  2397.53  February    1    0    0  ...    0    0    0    0    0    0\n",
              "2 1995-03-01  2840.71     March    0    1    0  ...    0    0    0    0    0    0\n",
              "3 1995-04-01  3547.29     April    0    0    1  ...    0    0    0    0    0    0\n",
              "4 1995-05-01  3752.96       May    0    0    0  ...    0    0    0    0    0    0\n",
              "\n",
              "[5 rows x 14 columns]"
            ]
          },
          "metadata": {},
          "execution_count": 832
        }
      ]
    },
    {
      "cell_type": "markdown",
      "source": [
        "Train - Test Split"
      ],
      "metadata": {
        "id": "rXUjOXsVX4UV"
      }
    },
    {
      "cell_type": "code",
      "source": [
        "from sklearn.model_selection import train_test_split\n",
        "\n",
        "ss_train, ss_test = train_test_split(ss, test_size = 0.2, shuffle = False)"
      ],
      "metadata": {
        "id": "-EiRDUvMUu42"
      },
      "execution_count": 833,
      "outputs": []
    },
    {
      "cell_type": "code",
      "source": [
        "# Further spliting into X and Y variables. X will be dummy variables and Y will sales.\n",
        "Months = ['feb', 'mar', 'apr', 'may', 'jun', 'jul', 'aug', 'sep', 'oct', 'nov', 'dec']\n",
        "X_train, y_train, X_test, y_test = ss_train[Months], pd.DataFrame(ss_train['Sales']), ss_test[Months], pd.DataFrame(ss_test['Sales'])"
      ],
      "metadata": {
        "id": "FWMJSBXbakFm"
      },
      "execution_count": 834,
      "outputs": []
    },
    {
      "cell_type": "code",
      "source": [
        "dict_shape_info = {\"X_train\": X_train.shape,\n",
        "                   \"X_test\": X_test.shape,\n",
        "                   \"y_train\": y_train.shape,\n",
        "                   \"y_test\": y_test.shape}\n",
        "print(dict_shape_info)"
      ],
      "metadata": {
        "colab": {
          "base_uri": "https://localhost:8080/"
        },
        "id": "kIUvx-sEatWF",
        "outputId": "c8527401-3986-4c91-e5af-9e984dd0061f"
      },
      "execution_count": 835,
      "outputs": [
        {
          "output_type": "stream",
          "name": "stdout",
          "text": [
            "{'X_train': (67, 11), 'X_test': (17, 11), 'y_train': (67, 1), 'y_test': (17, 1)}\n"
          ]
        }
      ]
    },
    {
      "cell_type": "markdown",
      "source": [
        "67 Months in Train and 17 Months for Test"
      ],
      "metadata": {
        "id": "SDz9oNPHdz5I"
      }
    },
    {
      "cell_type": "markdown",
      "source": [
        "## I. Additive Seasonality"
      ],
      "metadata": {
        "id": "rmfEBHQi3NVi"
      }
    },
    {
      "cell_type": "markdown",
      "source": [
        "#### Additive Model - Linear Regression\n",
        "Yt = B0 + B1feb + B2mar +...+B11dec"
      ],
      "metadata": {
        "id": "IvLWaMDteWr-"
      }
    },
    {
      "cell_type": "markdown",
      "source": [
        "### I.A. Fitting Linear Regression for Add Seasonality"
      ],
      "metadata": {
        "id": "D8jrCvy5d_Tr"
      }
    },
    {
      "cell_type": "code",
      "source": [
        "from sklearn.linear_model import LinearRegression\n",
        "LR = LinearRegression()\n",
        "add_lr = LR.fit(X_train, y_train)"
      ],
      "metadata": {
        "id": "E3dyXhlvduHR"
      },
      "execution_count": 836,
      "outputs": []
    },
    {
      "cell_type": "code",
      "source": [
        "# R Sqaure of model on both Train and Test sets.\n",
        "print(\"Linear Regression Used\")\n",
        "print(\" \")\n",
        "print(\"R-Sqaure on Train Set = \"+str(np.round(add_lr.score(X_train, y_train), 2)))\n",
        "print(\" \")\n",
        "print(\"R-Sqaure on Test Set = \"+str(np.round(add_lr.score(X_test, y_test), 2)))\n",
        "print(\" \")"
      ],
      "metadata": {
        "colab": {
          "base_uri": "https://localhost:8080/"
        },
        "id": "vTjOnZ6teNQG",
        "outputId": "9fafac04-870e-43c0-ffe5-9e623b067dc9"
      },
      "execution_count": 837,
      "outputs": [
        {
          "output_type": "stream",
          "name": "stdout",
          "text": [
            "Linear Regression Used\n",
            " \n",
            "R-Sqaure on Train Set = 0.76\n",
            " \n",
            "R-Sqaure on Test Set = -0.24\n",
            " \n"
          ]
        }
      ]
    },
    {
      "cell_type": "markdown",
      "source": [
        "### I.B. coefficients of Additive Model against the months are:"
      ],
      "metadata": {
        "id": "paKxjWBjq3M1"
      }
    },
    {
      "cell_type": "code",
      "source": [
        "# Checking the Coeff of features in predicting our label.\n",
        "intercept_coeff_add = {\"Intercept\": np.round(add_lr.intercept_[0], 2)}\n",
        "ls_coef = add_lr.coef_.tolist()\n",
        "ls_coef = ls_coef[0]\n",
        "n = -1\n",
        "for col in X_train.columns:\n",
        "    n += 1\n",
        "    intercept_coeff_add[col] = np.round(ls_coef[n], 2)\n",
        "\n",
        "print(intercept_coeff_add)\n",
        "print(\" \")"
      ],
      "metadata": {
        "colab": {
          "base_uri": "https://localhost:8080/"
        },
        "id": "n3YI44ObePcX",
        "outputId": "5b598683-df12-438c-eca0-f1acbb3f5950"
      },
      "execution_count": 838,
      "outputs": [
        {
          "output_type": "stream",
          "name": "stdout",
          "text": [
            "{'Intercept': 4540.74, 'feb': 1364.75, 'mar': 4899.57, 'apr': 2198.66, 'may': 2427.65, 'jun': 3094.8, 'jul': 4460.75, 'aug': 2864.58, 'sep': 3223.64, 'oct': 4265.8, 'nov': 10477.12, 'dec': 26966.07}\n",
            " \n"
          ]
        }
      ]
    },
    {
      "cell_type": "markdown",
      "source": [
        "As January is our reference month that means that coefficient of feb i.e. 1365 implies that sales in february are 1365 units more than January. Same goes for every month. Coefficents are comparing it self with reference month that in our case is January."
      ],
      "metadata": {
        "id": "1UOD7RcyfTYX"
      }
    },
    {
      "cell_type": "markdown",
      "source": [
        "### I.C. Plotting Additive Seasonality on Graph"
      ],
      "metadata": {
        "id": "r3Xv17Y-rDOu"
      }
    },
    {
      "cell_type": "code",
      "source": [
        "# Y Test and Prediction Difference\n",
        "LR_add_Prediction = pd.DataFrame(add_lr.predict(X_test), index = y_test.index)  \n",
        "ss_lr_df = pd.DataFrame()\n",
        "ss_lr_df['Sales'] = y_test['Sales']\n",
        "ss_lr_df['add_season_prediction'] = LR_add_Prediction"
      ],
      "metadata": {
        "id": "_8JnJvchfOgu"
      },
      "execution_count": 839,
      "outputs": []
    },
    {
      "cell_type": "code",
      "source": [
        "# Linear Regression Model's Prediction compared with Test Data\n",
        "ss_train['Sales'].plot(legend = True, label = 'Train')\n",
        "ss_test['Sales'].plot(legend = True, label = 'Orignal', figsize = (10,5), color = 'orange')\n",
        "ss_lr_df['add_season_prediction'].plot(legend = True, label = 'Seasonality_add', color = 'green')\n",
        "plt.title('Train, Test and Predicted comparison in Additive Seasonality using Linear Regression')"
      ],
      "metadata": {
        "colab": {
          "base_uri": "https://localhost:8080/",
          "height": 354
        },
        "id": "kV_yirZOhRg9",
        "outputId": "2673adbb-595e-49eb-ce5e-4d41797ffafd"
      },
      "execution_count": 840,
      "outputs": [
        {
          "output_type": "execute_result",
          "data": {
            "text/plain": [
              "Text(0.5, 1.0, 'Train, Test and Predicted comparison in Additive Seasonality using Linear Regression')"
            ]
          },
          "metadata": {},
          "execution_count": 840
        },
        {
          "output_type": "display_data",
          "data": {
            "image/png": "[encoded data removed]",
            "text/plain": [
              "<Figure size 720x360 with 1 Axes>"
            ]
          },
          "metadata": {
            "needs_background": "light"
          }
        }
      ]
    },
    {
      "cell_type": "markdown",
      "source": [
        "## II. Multiplicative Seasonality"
      ],
      "metadata": {
        "id": "bLvotDyi3XMX"
      }
    },
    {
      "cell_type": "markdown",
      "source": [
        "#### Multiplicative Model - Linear Regression\n",
        "\n",
        "Yt = a*e^(B1*feb)*e^(B2*mar).......*e^(B11*dec)\n",
        "\n",
        "Log10(Yt) = B0 + B1feb + B2mar +...+B11dec"
      ],
      "metadata": {
        "id": "d2OQk7hfhxbX"
      }
    },
    {
      "cell_type": "markdown",
      "source": [
        "Converting y_train and y_test to log base 10"
      ],
      "metadata": {
        "id": "qGeKkbVGiqZN"
      }
    },
    {
      "cell_type": "code",
      "source": [
        "y_log_train, y_log_test = pd.DataFrame(np.log10(y_train['Sales'])), pd.DataFrame(np.log10(y_test['Sales']))"
      ],
      "metadata": {
        "id": "OVX__JIZhjkI"
      },
      "execution_count": 841,
      "outputs": []
    },
    {
      "cell_type": "markdown",
      "source": [
        "### II.A. Fitting Linear Regression"
      ],
      "metadata": {
        "id": "rs_ex5E5lO7h"
      }
    },
    {
      "cell_type": "code",
      "source": [
        "LR = LinearRegression()\n",
        "mul_lr = LR.fit(X_train, y_log_train)"
      ],
      "metadata": {
        "id": "zWFH-xcRlQLt"
      },
      "execution_count": 842,
      "outputs": []
    },
    {
      "cell_type": "code",
      "source": [
        "# R Sqaure of model on both Train and Test sets.\n",
        "print(\"Linear Regression Used\")\n",
        "print(\" \")\n",
        "print(\"R-Sqaure on Train Set = \"+str(np.round(mul_lr.score(X_train, y_log_train), 2)))\n",
        "print(\" \")\n",
        "print(\"R-Sqaure on Test Set = \"+str(np.round(mul_lr.score(X_test, y_log_test), 2)))\n",
        "print(\" \")"
      ],
      "metadata": {
        "colab": {
          "base_uri": "https://localhost:8080/"
        },
        "id": "9OURHtghlQer",
        "outputId": "29a60e63-7b76-4d4f-cdd4-70c93575fc5f"
      },
      "execution_count": 843,
      "outputs": [
        {
          "output_type": "stream",
          "name": "stdout",
          "text": [
            "Linear Regression Used\n",
            " \n",
            "R-Sqaure on Train Set = 0.58\n",
            " \n",
            "R-Sqaure on Test Set = -2.51\n",
            " \n"
          ]
        }
      ]
    },
    {
      "cell_type": "markdown",
      "source": [
        "### II.B. coefficients of Multiplicative Model against the months are:"
      ],
      "metadata": {
        "id": "BXCr2cXCinJc"
      }
    },
    {
      "cell_type": "code",
      "source": [
        "# Checking the Coeff of features in predicting our label.\n",
        "intercept_coeff_mul = {\"Intercept\": np.round(mul_lr.intercept_[0], 2)}\n",
        "ls_coef = mul_lr.coef_.tolist()\n",
        "ls_coef = ls_coef[0]\n",
        "n = -1\n",
        "for col in X_train.columns:\n",
        "    n += 1\n",
        "    intercept_coeff_mul[col] = np.round(ls_coef[n], 2)\n",
        "\n",
        "print(intercept_coeff_mul)\n",
        "print(\" \")"
      ],
      "metadata": {
        "colab": {
          "base_uri": "https://localhost:8080/"
        },
        "id": "_5UbdC2WljPK",
        "outputId": "c470e720-afdc-47f8-bcee-6f44281736aa"
      },
      "execution_count": 844,
      "outputs": [
        {
          "output_type": "stream",
          "name": "stdout",
          "text": [
            "{'Intercept': 3.61, 'feb': 0.13, 'mar': 0.32, 'apr': 0.19, 'may': 0.22, 'jun': 0.24, 'jul': 0.31, 'aug': 0.22, 'sep': 0.26, 'oct': 0.32, 'nov': 0.55, 'dec': 0.88}\n",
            " \n"
          ]
        }
      ]
    },
    {
      "cell_type": "markdown",
      "source": [
        "As January is our reference month that means that coefficient of feb i.e. 0.13 implies that sales in february are 13% more than January. Same goes for every month. Coefficents are comparing it self with reference month that in our case is January."
      ],
      "metadata": {
        "id": "JJeCu30Ul0rD"
      }
    },
    {
      "cell_type": "markdown",
      "source": [
        "### II.C. Plotting Multiplicative Seasonality on Graph"
      ],
      "metadata": {
        "id": "VUzI--cGrppk"
      }
    },
    {
      "cell_type": "code",
      "source": [
        "# Y Test and Prediction Difference\n",
        "LR_multi_Prediction = pd.DataFrame(mul_lr.predict(X_test), index = y_log_test.index)  \n",
        "ss_lr_df['mul_season_prediction_log'] = LR_multi_Prediction\n",
        "ss_lr_df['mul_season_prediction'] = ss_lr_df['mul_season_prediction_log'].apply(lambda x: 10 ** x)"
      ],
      "metadata": {
        "id": "O8JhGW4dnF36"
      },
      "execution_count": 845,
      "outputs": []
    },
    {
      "cell_type": "code",
      "source": [
        "# Linear Regression Model's Prediction compared with Test Data\n",
        "ss_train['Sales'].plot(legend = True, label = 'Train')\n",
        "ss_test['Sales'].plot(legend = True, label = 'Orignal', figsize = (10,5), color = 'orange')\n",
        "ss_lr_df['mul_season_prediction'].plot(legend = True, label = 'Seasonality_mul', color = 'maroon')\n",
        "plt.title('Train, Test and Predicted comparison in Multiplicative Seasonality using Linear Regression')"
      ],
      "metadata": {
        "colab": {
          "base_uri": "https://localhost:8080/",
          "height": 354
        },
        "id": "6ZWpjXwlkZOe",
        "outputId": "57eeff05-629c-4323-f8f9-70a19e9257c5"
      },
      "execution_count": 846,
      "outputs": [
        {
          "output_type": "execute_result",
          "data": {
            "text/plain": [
              "Text(0.5, 1.0, 'Train, Test and Predicted comparison in Multiplicative Seasonality using Linear Regression')"
            ]
          },
          "metadata": {},
          "execution_count": 846
        },
        {
          "output_type": "display_data",
          "data": {
            "image/png": "[encoded data removed]",
            "text/plain": [
              "<Figure size 720x360 with 1 Axes>"
            ]
          },
          "metadata": {
            "needs_background": "light"
          }
        }
      ]
    },
    {
      "cell_type": "markdown",
      "source": [
        "## III. Linear Trend "
      ],
      "metadata": {
        "id": "CeNrijg46D-z"
      }
    },
    {
      "cell_type": "code",
      "source": [
        "ss_train['t'] = ss_train.index.map(lambda x: x+1)\n",
        "ss_test['t'] = ss_test.index.map(lambda x: x+1)"
      ],
      "metadata": {
        "id": "Ecqpkvak5Qvl"
      },
      "execution_count": 847,
      "outputs": []
    },
    {
      "cell_type": "code",
      "source": [
        "X_train_trend, X_test_trend = pd.DataFrame(ss_train['t']), pd.DataFrame(ss_test['t']) "
      ],
      "metadata": {
        "id": "HkTH5peP8a67"
      },
      "execution_count": 848,
      "outputs": []
    },
    {
      "cell_type": "markdown",
      "source": [
        "### III.A. Fitting Linear Regression for linear trend"
      ],
      "metadata": {
        "id": "aCpAvtiQB-8B"
      }
    },
    {
      "cell_type": "code",
      "source": [
        "LR = LinearRegression()\n",
        "lin_lr = LR.fit(X_train_trend, y_train)"
      ],
      "metadata": {
        "id": "4cMNBPu19ghW"
      },
      "execution_count": 849,
      "outputs": []
    },
    {
      "cell_type": "code",
      "source": [
        "# R Sqaure of model on both Train and Test sets.\n",
        "print(\"Linear Regression Used\")\n",
        "print(\" \")\n",
        "print(\"R-Sqaure on Train Set = \"+str(np.round(lin_lr.score(X_train_trend, y_train), 2)))\n",
        "print(\" \")\n",
        "print(\"R-Sqaure on Test Set = \"+str(np.round(lin_lr.score(X_test_trend, y_test), 2)))\n",
        "print(\" \")"
      ],
      "metadata": {
        "colab": {
          "base_uri": "https://localhost:8080/"
        },
        "id": "XLcjkP_GBP9P",
        "outputId": "f38b755e-d303-4e26-88f7-87546ba48cde"
      },
      "execution_count": 850,
      "outputs": [
        {
          "output_type": "stream",
          "name": "stdout",
          "text": [
            "Linear Regression Used\n",
            " \n",
            "R-Sqaure on Train Set = 0.19\n",
            " \n",
            "R-Sqaure on Test Set = -0.38\n",
            " \n"
          ]
        }
      ]
    },
    {
      "cell_type": "markdown",
      "source": [
        "### III.B. coefficients of Linear Trend Model against the sales per month are:"
      ],
      "metadata": {
        "id": "CwPjGbRADEK9"
      }
    },
    {
      "cell_type": "code",
      "source": [
        "# Checking the Coeff of features in predicting our label.\n",
        "intercept_coeff_lin = {\"Intercept\": np.round(lin_lr.intercept_[0], 2)}\n",
        "ls_coef = lin_lr.coef_.tolist()\n",
        "ls_coef = ls_coef[0]\n",
        "n = -1\n",
        "for col in X_train_trend.columns:\n",
        "    n += 1\n",
        "    intercept_coeff_lin[col] = np.round(ls_coef[n], 2)\n",
        "\n",
        "print(intercept_coeff_lin)\n",
        "print(\" \")"
      ],
      "metadata": {
        "colab": {
          "base_uri": "https://localhost:8080/"
        },
        "id": "IAe7fXPbB3Gs",
        "outputId": "03d66f77-c5b5-4df0-e5b2-4cda21857d65"
      },
      "execution_count": 851,
      "outputs": [
        {
          "output_type": "stream",
          "name": "stdout",
          "text": [
            "{'Intercept': 3898.6, 't': 172.38}\n",
            " \n"
          ]
        }
      ]
    },
    {
      "cell_type": "markdown",
      "source": [
        "Sales increase by 172 units per month as per our coefficient."
      ],
      "metadata": {
        "id": "xma15mQ7CrkT"
      }
    },
    {
      "cell_type": "markdown",
      "source": [
        "### III.C. Plotting Linear Trend on Graph"
      ],
      "metadata": {
        "id": "sksYztiZE0Zf"
      }
    },
    {
      "cell_type": "code",
      "source": [
        "# Y Test and Prediction Difference\n",
        "LR_lin_Prediction = pd.DataFrame(lin_lr.predict(X_test_trend), index = y_test.index)  \n",
        "ss_lr_df['lin_trend_prediction'] = LR_lin_Prediction"
      ],
      "metadata": {
        "id": "oUk7B_bYCVwG"
      },
      "execution_count": 852,
      "outputs": []
    },
    {
      "cell_type": "code",
      "source": [
        "# Linear Regression Model's Prediction compared with Test Data\n",
        "ss_train['Sales'].plot(legend = True, label = 'Train')\n",
        "ss_test['Sales'].plot(legend = True, label = 'Orignal', figsize = (10,5), color = 'orange')\n",
        "ss_lr_df['lin_trend_prediction'].plot(legend = True, label = 'Trend_lin', color = 'green')\n",
        "plt.title('Train, Test and Predicted comparison in Additive Seasonality using Linear Regression')"
      ],
      "metadata": {
        "colab": {
          "base_uri": "https://localhost:8080/",
          "height": 354
        },
        "id": "6IV-hlzPFEgU",
        "outputId": "2c6e164e-b7ab-4dca-f2d7-5540ee109a22"
      },
      "execution_count": 853,
      "outputs": [
        {
          "output_type": "execute_result",
          "data": {
            "text/plain": [
              "Text(0.5, 1.0, 'Train, Test and Predicted comparison in Additive Seasonality using Linear Regression')"
            ]
          },
          "metadata": {},
          "execution_count": 853
        },
        {
          "output_type": "display_data",
          "data": {
            "image/png": "[encoded data removed]",
            "text/plain": [
              "<Figure size 720x360 with 1 Axes>"
            ]
          },
          "metadata": {
            "needs_background": "light"
          }
        }
      ]
    },
    {
      "cell_type": "markdown",
      "source": [
        "Linear trend is not been able to explain the actual trend as shown graphically above."
      ],
      "metadata": {
        "id": "DBIXAFKxFgYP"
      }
    },
    {
      "cell_type": "markdown",
      "source": [
        "## IV. Exponential Trend "
      ],
      "metadata": {
        "id": "h_5sjcCHH9kB"
      }
    },
    {
      "cell_type": "markdown",
      "source": [
        "### IV.A. Fitting Linear Regression for exponential trend"
      ],
      "metadata": {
        "id": "RoroOIUdH0YB"
      }
    },
    {
      "cell_type": "code",
      "source": [
        "LR = LinearRegression()\n",
        "exp_lr = LR.fit(X_train_trend, y_log_train)"
      ],
      "metadata": {
        "id": "cgADXFYAHzyK"
      },
      "execution_count": 854,
      "outputs": []
    },
    {
      "cell_type": "code",
      "source": [
        "# R Sqaure of model on both Train and Test sets.\n",
        "print(\"Linear Regression Used\")\n",
        "print(\" \")\n",
        "print(\"R-Sqaure on Train Set = \"+str(np.round(exp_lr.score(X_train_trend, y_log_train), 2)))\n",
        "print(\" \")\n",
        "print(\"R-Sqaure on Test Set = \"+str(np.round(exp_lr.score(X_test_trend, y_log_test), 2)))\n",
        "print(\" \")"
      ],
      "metadata": {
        "colab": {
          "base_uri": "https://localhost:8080/"
        },
        "id": "ABJihY1SFyUb",
        "outputId": "8f6e093c-a600-4389-d6af-27f21412fbff"
      },
      "execution_count": 855,
      "outputs": [
        {
          "output_type": "stream",
          "name": "stdout",
          "text": [
            "Linear Regression Used\n",
            " \n",
            "R-Sqaure on Train Set = 0.4\n",
            " \n",
            "R-Sqaure on Test Set = -0.26\n",
            " \n"
          ]
        }
      ]
    },
    {
      "cell_type": "markdown",
      "source": [
        "### IV.B. coefficients of exponential Trend Model against the sales per month are:"
      ],
      "metadata": {
        "id": "hihjkbniIYGJ"
      }
    },
    {
      "cell_type": "code",
      "source": [
        "# Checking the Coeff of features in predicting our label.\n",
        "intercept_coeff_exp = {\"Intercept\": np.round(exp_lr.intercept_[0], 2)}\n",
        "ls_coef = exp_lr.coef_.tolist()\n",
        "ls_coef = ls_coef[0]\n",
        "n = -1\n",
        "for col in X_train_trend.columns:\n",
        "    n += 1\n",
        "    intercept_coeff_exp[col] = np.round(ls_coef[n], 2)\n",
        "\n",
        "print(intercept_coeff_exp)\n",
        "print(\" \")"
      ],
      "metadata": {
        "colab": {
          "base_uri": "https://localhost:8080/"
        },
        "id": "NgQPk7XOIR9l",
        "outputId": "2f4f2681-13bb-4dde-8ffd-cd3972256b4a"
      },
      "execution_count": 856,
      "outputs": [
        {
          "output_type": "stream",
          "name": "stdout",
          "text": [
            "{'Intercept': 3.6, 't': 0.01}\n",
            " \n"
          ]
        }
      ]
    },
    {
      "cell_type": "markdown",
      "source": [
        "Sales increase by 1% per month as per our coefficient."
      ],
      "metadata": {
        "id": "juAMPiu3InzA"
      }
    },
    {
      "cell_type": "markdown",
      "source": [
        "### IV.C. Plotting Exponential Trend on Graph"
      ],
      "metadata": {
        "id": "Vc5l2DbyI5q-"
      }
    },
    {
      "cell_type": "code",
      "source": [
        "# Y Test and Prediction Difference\n",
        "LR_exp_Prediction = pd.DataFrame(exp_lr.predict(X_test_trend), index = y_test.index)  \n",
        "ss_lr_df['exp_trend_prediction_log'] = LR_exp_Prediction\n",
        "ss_lr_df['exp_trend_prediction'] = ss_lr_df['exp_trend_prediction_log'].apply(lambda x: 10 ** x)"
      ],
      "metadata": {
        "id": "jUWTiYyIIe4M"
      },
      "execution_count": 857,
      "outputs": []
    },
    {
      "cell_type": "code",
      "source": [
        "# Linear Regression Model's Prediction compared with Test Data\n",
        "ss_train['Sales'].plot(legend = True, label = 'Train')\n",
        "ss_test['Sales'].plot(legend = True, label = 'Orignal', figsize = (10,5), color = 'orange')\n",
        "ss_lr_df['exp_trend_prediction'].plot(legend = True, label = 'Trend_exp', color = 'maroon')\n",
        "plt.title('Train, Test and Predicted comparison in Additive Seasonality using Linear Regression')"
      ],
      "metadata": {
        "colab": {
          "base_uri": "https://localhost:8080/",
          "height": 354
        },
        "id": "P8QmJ8i-JYjo",
        "outputId": "a80835a2-087e-4c63-9c89-5a812457257f"
      },
      "execution_count": 858,
      "outputs": [
        {
          "output_type": "execute_result",
          "data": {
            "text/plain": [
              "Text(0.5, 1.0, 'Train, Test and Predicted comparison in Additive Seasonality using Linear Regression')"
            ]
          },
          "metadata": {},
          "execution_count": 858
        },
        {
          "output_type": "display_data",
          "data": {
            "image/png": "[encoded data removed]",
            "text/plain": [
              "<Figure size 720x360 with 1 Axes>"
            ]
          },
          "metadata": {
            "needs_background": "light"
          }
        }
      ]
    },
    {
      "cell_type": "markdown",
      "source": [
        "## V. Model A "
      ],
      "metadata": {
        "id": "XzBJypiFLbtP"
      }
    },
    {
      "cell_type": "markdown",
      "source": [
        "### V.A. Computing Model A \n",
        "\n",
        "using the formula mentioned below -> Linear Trend Reg + Additive Seasonality\n",
        "\n",
        "Yt = (a0 + a1t) + (B0 + B1feb + B2mar +...+B11dec) + E"
      ],
      "metadata": {
        "id": "_xeYNv2gL-fZ"
      }
    },
    {
      "cell_type": "code",
      "source": [
        "ss_lr_df['Model_A_Pred'] = ss_lr_df['add_season_prediction'] + ss_lr_df['lin_trend_prediction']"
      ],
      "metadata": {
        "id": "2USUdVBBLhIN"
      },
      "execution_count": 859,
      "outputs": []
    },
    {
      "cell_type": "code",
      "source": [
        "ss_lr_df.head(2)"
      ],
      "metadata": {
        "colab": {
          "base_uri": "https://localhost:8080/",
          "height": 0
        },
        "id": "PShkAtKbLfI6",
        "outputId": "eebb4a07-1722-4d54-c48b-67fcd1be5910"
      },
      "execution_count": 860,
      "outputs": [
        {
          "output_type": "execute_result",
          "data": {
            "text/html": [
              "\n",
              "  <div id=\"df-8874d0db-25ed-4b0f-9629-5f7cba5a1a44\">\n",
              "    <div class=\"colab-df-container\">\n",
              "      <div>\n",
              "<style scoped>\n",
              "    .dataframe tbody tr th:only-of-type {\n",
              "        vertical-align: middle;\n",
              "    }\n",
              "\n",
              "    .dataframe tbody tr th {\n",
              "        vertical-align: top;\n",
              "    }\n",
              "\n",
              "    .dataframe thead th {\n",
              "        text-align: right;\n",
              "    }\n",
              "</style>\n",
              "<table border=\"1\" class=\"dataframe\">\n",
              "  <thead>\n",
              "    <tr style=\"text-align: right;\">\n",
              "      <th></th>\n",
              "      <th>Sales</th>\n",
              "      <th>add_season_prediction</th>\n",
              "      <th>mul_season_prediction_log</th>\n",
              "      <th>mul_season_prediction</th>\n",
              "      <th>lin_trend_prediction</th>\n",
              "      <th>exp_trend_prediction_log</th>\n",
              "      <th>exp_trend_prediction</th>\n",
              "      <th>Model_A_Pred</th>\n",
              "    </tr>\n",
              "  </thead>\n",
              "  <tbody>\n",
              "    <tr>\n",
              "      <th>67</th>\n",
              "      <td>19888.61</td>\n",
              "      <td>7405.316</td>\n",
              "      <td>3.828474</td>\n",
              "      <td>6737.113484</td>\n",
              "      <td>15620.576744</td>\n",
              "      <td>4.200284</td>\n",
              "      <td>15859.303623</td>\n",
              "      <td>23025.892744</td>\n",
              "    </tr>\n",
              "    <tr>\n",
              "      <th>68</th>\n",
              "      <td>23933.38</td>\n",
              "      <td>7764.374</td>\n",
              "      <td>3.869610</td>\n",
              "      <td>7406.453927</td>\n",
              "      <td>15792.958764</td>\n",
              "      <td>4.209179</td>\n",
              "      <td>16187.467371</td>\n",
              "      <td>23557.332764</td>\n",
              "    </tr>\n",
              "  </tbody>\n",
              "</table>\n",
              "</div>\n",
              "      <button class=\"colab-df-convert\" onclick=\"convertToInteractive('df-8874d0db-25ed-4b0f-9629-5f7cba5a1a44')\"\n",
              "              title=\"Convert this dataframe to an interactive table.\"\n",
              "              style=\"display:none;\">\n",
              "        \n",
              "  <svg xmlns=\"http://www.w3.org/2000/svg\" height=\"24px\"viewBox=\"0 0 24 24\"\n",
              "       width=\"24px\">\n",
              "    <path d=\"M0 0h24v24H0V0z\" fill=\"none\"/>\n",
              "    <path d=\"M18.56 5.44l.94 2.06.94-2.06 2.06-.94-2.06-.94-.94-2.06-.94 2.06-2.06.94zm-11 1L8.5 8.5l.94-2.06 2.06-.94-2.06-.94L8.5 2.5l-.94 2.06-2.06.94zm10 10l.94 2.06.94-2.06 2.06-.94-2.06-.94-.94-2.06-.94 2.06-2.06.94z\"/><path d=\"M17.41 7.96l-1.37-1.37c-.4-.4-.92-.59-1.43-.59-.52 0-1.04.2-1.43.59L10.3 9.45l-7.72 7.72c-.78.78-.78 2.05 0 2.83L4 21.41c.39.39.9.59 1.41.59.51 0 1.02-.2 1.41-.59l7.78-7.78 2.81-2.81c.8-.78.8-2.07 0-2.86zM5.41 20L4 18.59l7.72-7.72 1.47 1.35L5.41 20z\"/>\n",
              "  </svg>\n",
              "      </button>\n",
              "      \n",
              "  <style>\n",
              "    .colab-df-container {\n",
              "      display:flex;\n",
              "      flex-wrap:wrap;\n",
              "      gap: 12px;\n",
              "    }\n",
              "\n",
              "    .colab-df-convert {\n",
              "      background-color: #E8F0FE;\n",
              "      border: none;\n",
              "      border-radius: 50%;\n",
              "      cursor: pointer;\n",
              "      display: none;\n",
              "      fill: #1967D2;\n",
              "      height: 32px;\n",
              "      padding: 0 0 0 0;\n",
              "      width: 32px;\n",
              "    }\n",
              "\n",
              "    .colab-df-convert:hover {\n",
              "      background-color: #E2EBFA;\n",
              "      box-shadow: 0px 1px 2px rgba(60, 64, 67, 0.3), 0px 1px 3px 1px rgba(60, 64, 67, 0.15);\n",
              "      fill: #174EA6;\n",
              "    }\n",
              "\n",
              "    [theme=dark] .colab-df-convert {\n",
              "      background-color: #3B4455;\n",
              "      fill: #D2E3FC;\n",
              "    }\n",
              "\n",
              "    [theme=dark] .colab-df-convert:hover {\n",
              "      background-color: #434B5C;\n",
              "      box-shadow: 0px 1px 3px 1px rgba(0, 0, 0, 0.15);\n",
              "      filter: drop-shadow(0px 1px 2px rgba(0, 0, 0, 0.3));\n",
              "      fill: #FFFFFF;\n",
              "    }\n",
              "  </style>\n",
              "\n",
              "      <script>\n",
              "        const buttonEl =\n",
              "          document.querySelector('#df-8874d0db-25ed-4b0f-9629-5f7cba5a1a44 button.colab-df-convert');\n",
              "        buttonEl.style.display =\n",
              "          google.colab.kernel.accessAllowed ? 'block' : 'none';\n",
              "\n",
              "        async function convertToInteractive(key) {\n",
              "          const element = document.querySelector('#df-8874d0db-25ed-4b0f-9629-5f7cba5a1a44');\n",
              "          const dataTable =\n",
              "            await google.colab.kernel.invokeFunction('convertToInteractive',\n",
              "                                                     [key], {});\n",
              "          if (!dataTable) return;\n",
              "\n",
              "          const docLinkHtml = 'Like what you see? Visit the ' +\n",
              "            '<a target=\"_blank\" href=https://colab.research.google.com/notebooks/data_table.ipynb>data table notebook</a>'\n",
              "            + ' to learn more about interactive tables.';\n",
              "          element.innerHTML = '';\n",
              "          dataTable['output_type'] = 'display_data';\n",
              "          await google.colab.output.renderOutput(dataTable, element);\n",
              "          const docLink = document.createElement('div');\n",
              "          docLink.innerHTML = docLinkHtml;\n",
              "          element.appendChild(docLink);\n",
              "        }\n",
              "      </script>\n",
              "    </div>\n",
              "  </div>\n",
              "  "
            ],
            "text/plain": [
              "       Sales  add_season_prediction  ...  exp_trend_prediction  Model_A_Pred\n",
              "67  19888.61               7405.316  ...          15859.303623  23025.892744\n",
              "68  23933.38               7764.374  ...          16187.467371  23557.332764\n",
              "\n",
              "[2 rows x 8 columns]"
            ]
          },
          "metadata": {},
          "execution_count": 860
        }
      ]
    },
    {
      "cell_type": "markdown",
      "source": [
        "### V.B. Ploting Model A Prediction against Test (Validation) Data"
      ],
      "metadata": {
        "id": "aKJDKIEBMUwt"
      }
    },
    {
      "cell_type": "code",
      "source": [
        "# Linear Regression Model's Prediction compared with Test Data\n",
        "ss_train['Sales'].plot(legend = True, label = 'Train')\n",
        "ss_test['Sales'].plot(legend = True, label = 'Orignal', figsize = (10,5), color = 'orange')\n",
        "ss_lr_df['Model_A_Pred'].plot(legend = True, label = 'Model A', color = 'green')\n",
        "plt.title('Train, Test and Predicted (using Model A)')"
      ],
      "metadata": {
        "colab": {
          "base_uri": "https://localhost:8080/",
          "height": 0
        },
        "id": "J5m29RdGL05w",
        "outputId": "8dea7abb-bdec-4605-dc9a-86263c7e69a0"
      },
      "execution_count": 861,
      "outputs": [
        {
          "output_type": "execute_result",
          "data": {
            "text/plain": [
              "Text(0.5, 1.0, 'Train, Test and Predicted (using Model A)')"
            ]
          },
          "metadata": {},
          "execution_count": 861
        },
        {
          "output_type": "display_data",
          "data": {
            "image/png": "[encoded data removed]",
            "text/plain": [
              "<Figure size 720x360 with 1 Axes>"
            ]
          },
          "metadata": {
            "needs_background": "light"
          }
        }
      ]
    },
    {
      "cell_type": "markdown",
      "source": [
        "### V.C. Errors Model A"
      ],
      "metadata": {
        "id": "dAr1iEPtPnKB"
      }
    },
    {
      "cell_type": "code",
      "source": [
        "ss_lr_df['Model_A_Error'] =  ss_lr_df['Sales'] - ss_lr_df['Model_A_Pred']"
      ],
      "metadata": {
        "id": "j8PLpI0lMjwp"
      },
      "execution_count": 862,
      "outputs": []
    },
    {
      "cell_type": "code",
      "source": [
        "ss_lr_df['Model_A_Error'].plot(legend = True, label = 'Model B', color = 'green')\n",
        "plt.title('Model A Errors')"
      ],
      "metadata": {
        "colab": {
          "base_uri": "https://localhost:8080/",
          "height": 0
        },
        "id": "qmlMzvGMPxxh",
        "outputId": "6347e47b-2d4a-417c-d062-e82002991724"
      },
      "execution_count": 863,
      "outputs": [
        {
          "output_type": "execute_result",
          "data": {
            "text/plain": [
              "Text(0.5, 1.0, 'Model A Errors')"
            ]
          },
          "metadata": {},
          "execution_count": 863
        },
        {
          "output_type": "display_data",
          "data": {
            "image/png": "[encoded data removed]",
            "text/plain": [
              "<Figure size 432x288 with 1 Axes>"
            ]
          },
          "metadata": {
            "needs_background": "light"
          }
        }
      ]
    },
    {
      "cell_type": "markdown",
      "source": [
        "## VI. Model B "
      ],
      "metadata": {
        "id": "mBCAc5kiM6uz"
      }
    },
    {
      "cell_type": "markdown",
      "source": [
        "### VI.A. Computing Model B\n",
        "\n",
        "using the formula mentioned below -> Exponential Trend Reg + Multiplicative Seasonality\n",
        "\n",
        "Log(Yt) = (a0 + a1t) + (B0 + B1feb + B2mar +...+B11dec) + E"
      ],
      "metadata": {
        "id": "mAdkbKzmNERS"
      }
    },
    {
      "cell_type": "code",
      "source": [
        "ss_lr_df['Model_B_Pred'] = ss_lr_df['mul_season_prediction'] + ss_lr_df['exp_trend_prediction']"
      ],
      "metadata": {
        "id": "O-ZDPuzqM-at"
      },
      "execution_count": 864,
      "outputs": []
    },
    {
      "cell_type": "code",
      "source": [
        "ss_lr_df.head(2)"
      ],
      "metadata": {
        "colab": {
          "base_uri": "https://localhost:8080/",
          "height": 176
        },
        "id": "Rl25BW5ZNXzS",
        "outputId": "1dad490a-2752-4c38-e3f8-c91234ba5149"
      },
      "execution_count": 865,
      "outputs": [
        {
          "output_type": "execute_result",
          "data": {
            "text/html": [
              "\n",
              "  <div id=\"df-4c60ca2f-0b91-4a0b-96d7-8fb8406816f8\">\n",
              "    <div class=\"colab-df-container\">\n",
              "      <div>\n",
              "<style scoped>\n",
              "    .dataframe tbody tr th:only-of-type {\n",
              "        vertical-align: middle;\n",
              "    }\n",
              "\n",
              "    .dataframe tbody tr th {\n",
              "        vertical-align: top;\n",
              "    }\n",
              "\n",
              "    .dataframe thead th {\n",
              "        text-align: right;\n",
              "    }\n",
              "</style>\n",
              "<table border=\"1\" class=\"dataframe\">\n",
              "  <thead>\n",
              "    <tr style=\"text-align: right;\">\n",
              "      <th></th>\n",
              "      <th>Sales</th>\n",
              "      <th>add_season_prediction</th>\n",
              "      <th>mul_season_prediction_log</th>\n",
              "      <th>mul_season_prediction</th>\n",
              "      <th>lin_trend_prediction</th>\n",
              "      <th>exp_trend_prediction_log</th>\n",
              "      <th>exp_trend_prediction</th>\n",
              "      <th>Model_A_Pred</th>\n",
              "      <th>Model_A_Error</th>\n",
              "      <th>Model_B_Pred</th>\n",
              "    </tr>\n",
              "  </thead>\n",
              "  <tbody>\n",
              "    <tr>\n",
              "      <th>67</th>\n",
              "      <td>19888.61</td>\n",
              "      <td>7405.316</td>\n",
              "      <td>3.828474</td>\n",
              "      <td>6737.113484</td>\n",
              "      <td>15620.576744</td>\n",
              "      <td>4.200284</td>\n",
              "      <td>15859.303623</td>\n",
              "      <td>23025.892744</td>\n",
              "      <td>-3137.282744</td>\n",
              "      <td>22596.417107</td>\n",
              "    </tr>\n",
              "    <tr>\n",
              "      <th>68</th>\n",
              "      <td>23933.38</td>\n",
              "      <td>7764.374</td>\n",
              "      <td>3.869610</td>\n",
              "      <td>7406.453927</td>\n",
              "      <td>15792.958764</td>\n",
              "      <td>4.209179</td>\n",
              "      <td>16187.467371</td>\n",
              "      <td>23557.332764</td>\n",
              "      <td>376.047236</td>\n",
              "      <td>23593.921298</td>\n",
              "    </tr>\n",
              "  </tbody>\n",
              "</table>\n",
              "</div>\n",
              "      <button class=\"colab-df-convert\" onclick=\"convertToInteractive('df-4c60ca2f-0b91-4a0b-96d7-8fb8406816f8')\"\n",
              "              title=\"Convert this dataframe to an interactive table.\"\n",
              "              style=\"display:none;\">\n",
              "        \n",
              "  <svg xmlns=\"http://www.w3.org/2000/svg\" height=\"24px\"viewBox=\"0 0 24 24\"\n",
              "       width=\"24px\">\n",
              "    <path d=\"M0 0h24v24H0V0z\" fill=\"none\"/>\n",
              "    <path d=\"M18.56 5.44l.94 2.06.94-2.06 2.06-.94-2.06-.94-.94-2.06-.94 2.06-2.06.94zm-11 1L8.5 8.5l.94-2.06 2.06-.94-2.06-.94L8.5 2.5l-.94 2.06-2.06.94zm10 10l.94 2.06.94-2.06 2.06-.94-2.06-.94-.94-2.06-.94 2.06-2.06.94z\"/><path d=\"M17.41 7.96l-1.37-1.37c-.4-.4-.92-.59-1.43-.59-.52 0-1.04.2-1.43.59L10.3 9.45l-7.72 7.72c-.78.78-.78 2.05 0 2.83L4 21.41c.39.39.9.59 1.41.59.51 0 1.02-.2 1.41-.59l7.78-7.78 2.81-2.81c.8-.78.8-2.07 0-2.86zM5.41 20L4 18.59l7.72-7.72 1.47 1.35L5.41 20z\"/>\n",
              "  </svg>\n",
              "      </button>\n",
              "      \n",
              "  <style>\n",
              "    .colab-df-container {\n",
              "      display:flex;\n",
              "      flex-wrap:wrap;\n",
              "      gap: 12px;\n",
              "    }\n",
              "\n",
              "    .colab-df-convert {\n",
              "      background-color: #E8F0FE;\n",
              "      border: none;\n",
              "      border-radius: 50%;\n",
              "      cursor: pointer;\n",
              "      display: none;\n",
              "      fill: #1967D2;\n",
              "      height: 32px;\n",
              "      padding: 0 0 0 0;\n",
              "      width: 32px;\n",
              "    }\n",
              "\n",
              "    .colab-df-convert:hover {\n",
              "      background-color: #E2EBFA;\n",
              "      box-shadow: 0px 1px 2px rgba(60, 64, 67, 0.3), 0px 1px 3px 1px rgba(60, 64, 67, 0.15);\n",
              "      fill: #174EA6;\n",
              "    }\n",
              "\n",
              "    [theme=dark] .colab-df-convert {\n",
              "      background-color: #3B4455;\n",
              "      fill: #D2E3FC;\n",
              "    }\n",
              "\n",
              "    [theme=dark] .colab-df-convert:hover {\n",
              "      background-color: #434B5C;\n",
              "      box-shadow: 0px 1px 3px 1px rgba(0, 0, 0, 0.15);\n",
              "      filter: drop-shadow(0px 1px 2px rgba(0, 0, 0, 0.3));\n",
              "      fill: #FFFFFF;\n",
              "    }\n",
              "  </style>\n",
              "\n",
              "      <script>\n",
              "        const buttonEl =\n",
              "          document.querySelector('#df-4c60ca2f-0b91-4a0b-96d7-8fb8406816f8 button.colab-df-convert');\n",
              "        buttonEl.style.display =\n",
              "          google.colab.kernel.accessAllowed ? 'block' : 'none';\n",
              "\n",
              "        async function convertToInteractive(key) {\n",
              "          const element = document.querySelector('#df-4c60ca2f-0b91-4a0b-96d7-8fb8406816f8');\n",
              "          const dataTable =\n",
              "            await google.colab.kernel.invokeFunction('convertToInteractive',\n",
              "                                                     [key], {});\n",
              "          if (!dataTable) return;\n",
              "\n",
              "          const docLinkHtml = 'Like what you see? Visit the ' +\n",
              "            '<a target=\"_blank\" href=https://colab.research.google.com/notebooks/data_table.ipynb>data table notebook</a>'\n",
              "            + ' to learn more about interactive tables.';\n",
              "          element.innerHTML = '';\n",
              "          dataTable['output_type'] = 'display_data';\n",
              "          await google.colab.output.renderOutput(dataTable, element);\n",
              "          const docLink = document.createElement('div');\n",
              "          docLink.innerHTML = docLinkHtml;\n",
              "          element.appendChild(docLink);\n",
              "        }\n",
              "      </script>\n",
              "    </div>\n",
              "  </div>\n",
              "  "
            ],
            "text/plain": [
              "       Sales  add_season_prediction  ...  Model_A_Error  Model_B_Pred\n",
              "67  19888.61               7405.316  ...   -3137.282744  22596.417107\n",
              "68  23933.38               7764.374  ...     376.047236  23593.921298\n",
              "\n",
              "[2 rows x 10 columns]"
            ]
          },
          "metadata": {},
          "execution_count": 865
        }
      ]
    },
    {
      "cell_type": "markdown",
      "source": [
        "### VI.B. Ploting Model B Prediction against Test (Validation) Data"
      ],
      "metadata": {
        "id": "KX89HMgRNhYN"
      }
    },
    {
      "cell_type": "code",
      "source": [
        "# Linear Regression Model's Prediction compared with Test Data\n",
        "ss_train['Sales'].plot(legend = True, label = 'Train')\n",
        "ss_test['Sales'].plot(legend = True, label = 'Orignal', figsize = (10,5), color = 'orange')\n",
        "ss_lr_df['Model_B_Pred'].plot(legend = True, label = 'Model B', color = 'maroon')\n",
        "plt.title('Train, Test and Predicted (Using Model B)')"
      ],
      "metadata": {
        "colab": {
          "base_uri": "https://localhost:8080/",
          "height": 354
        },
        "id": "e1wx6DaTNZIZ",
        "outputId": "ad1f27e5-09bc-4720-f489-d6aa1c880edb"
      },
      "execution_count": 866,
      "outputs": [
        {
          "output_type": "execute_result",
          "data": {
            "text/plain": [
              "Text(0.5, 1.0, 'Train, Test and Predicted (Using Model B)')"
            ]
          },
          "metadata": {},
          "execution_count": 866
        },
        {
          "output_type": "display_data",
          "data": {
            "image/png": "[encoded data removed]",
            "text/plain": [
              "<Figure size 720x360 with 1 Axes>"
            ]
          },
          "metadata": {
            "needs_background": "light"
          }
        }
      ]
    },
    {
      "cell_type": "markdown",
      "source": [
        "### VI.C. Errors Model B"
      ],
      "metadata": {
        "id": "9AeAtWieO2o4"
      }
    },
    {
      "cell_type": "code",
      "source": [
        "ss_lr_df['Model_B_Error'] =  ss_lr_df['Sales'] - ss_lr_df['Model_B_Pred']"
      ],
      "metadata": {
        "id": "Z0qU_V8iNo9w"
      },
      "execution_count": 867,
      "outputs": []
    },
    {
      "cell_type": "code",
      "source": [
        "ss_lr_df['Model_B_Error'].plot(legend = True, label = 'Model B', color = 'maroon')\n",
        "plt.title('Model B Errors')"
      ],
      "metadata": {
        "colab": {
          "base_uri": "https://localhost:8080/",
          "height": 298
        },
        "id": "dvDyd1pPPNri",
        "outputId": "ec8cdca7-9f2e-4504-dd8a-391ac8eed528"
      },
      "execution_count": 868,
      "outputs": [
        {
          "output_type": "execute_result",
          "data": {
            "text/plain": [
              "Text(0.5, 1.0, 'Model B Errors')"
            ]
          },
          "metadata": {},
          "execution_count": 868
        },
        {
          "output_type": "display_data",
          "data": {
            "image/png": "[encoded data removed]",
            "text/plain": [
              "<Figure size 432x288 with 1 Axes>"
            ]
          },
          "metadata": {
            "needs_background": "light"
          }
        }
      ]
    },
    {
      "cell_type": "markdown",
      "source": [
        "# Part C"
      ],
      "metadata": {
        "id": "kCarHu3nQEuQ"
      }
    },
    {
      "cell_type": "markdown",
      "source": [
        "Which model is the best model considering RMSE as the metric? Could you have\n",
        "understood this from the line chart? Explain. Produce the plot showing the forecasts\n",
        "from both models along with actual data. In a separate plot, present the residuals\n",
        "from both models (consider only the validation set residuals)."
      ],
      "metadata": {
        "id": "OtfJSivcQN5B"
      }
    },
    {
      "cell_type": "markdown",
      "source": [
        "## Solution Part C\n",
        "    I. Compute RMSE\n",
        "    II. Plotting both Model A & B Predictions against test and evaluating models visually.\n",
        "    III. Errors Plotted"
      ],
      "metadata": {
        "id": "JyXFQek5Qoq5"
      }
    },
    {
      "cell_type": "markdown",
      "source": [
        "## I. Compute RMSE"
      ],
      "metadata": {
        "id": "3KicMMopRVGz"
      }
    },
    {
      "cell_type": "code",
      "source": [
        "# Checking MAE, MSE, RMSE value for our Linear Regression Model.\n",
        "from sklearn import metrics\n",
        "\n",
        "# Model A Evaluation\n",
        "MAE = metrics.mean_absolute_error(ss_lr_df['Sales'], ss_lr_df['Model_A_Pred'])\n",
        "MSE = metrics.mean_squared_error(ss_lr_df['Sales'], ss_lr_df['Model_A_Pred'])\n",
        "RMSE = np.sqrt(MSE)\n",
        "\n",
        "Model_A_eval = [np.round(MAE, 1), np.round(MSE, 1), np.round(RMSE, 1)]\n",
        "\n",
        "# Model B Evaluation\n",
        "MAE = metrics.mean_absolute_error(ss_lr_df['Sales'], ss_lr_df['Model_B_Pred'])\n",
        "MSE = metrics.mean_squared_error(ss_lr_df['Sales'], ss_lr_df['Model_B_Pred'])\n",
        "RMSE = np.sqrt(MSE)\n",
        "\n",
        "Model_B_eval = [np.round(MAE, 1), np.round(MSE, 1), np.round(RMSE, 1)]\n",
        "\n",
        "# ------- Creating Matrix to see evaluations ------------ #\n",
        "evaluation_matrix = pd.DataFrame()\n",
        "evaluation_matrix['Model_A_Evaluation'] = Model_A_eval\n",
        "evaluation_matrix['Model_B_Evaluation'] = Model_B_eval\n",
        "evaluation_matrix.index = ['MAE', 'MSE', 'RMSE']\n",
        "evaluation_matrix"
      ],
      "metadata": {
        "colab": {
          "base_uri": "https://localhost:8080/",
          "height": 144
        },
        "id": "xeXuqNvrQHgg",
        "outputId": "8e32e63e-9e4a-4556-9f5c-ca837f2550a2"
      },
      "execution_count": 869,
      "outputs": [
        {
          "output_type": "execute_result",
          "data": {
            "text/html": [
              "\n",
              "  <div id=\"df-fe690aef-7ee1-4f85-8673-8a4de4fd9012\">\n",
              "    <div class=\"colab-df-container\">\n",
              "      <div>\n",
              "<style scoped>\n",
              "    .dataframe tbody tr th:only-of-type {\n",
              "        vertical-align: middle;\n",
              "    }\n",
              "\n",
              "    .dataframe tbody tr th {\n",
              "        vertical-align: top;\n",
              "    }\n",
              "\n",
              "    .dataframe thead th {\n",
              "        text-align: right;\n",
              "    }\n",
              "</style>\n",
              "<table border=\"1\" class=\"dataframe\">\n",
              "  <thead>\n",
              "    <tr style=\"text-align: right;\">\n",
              "      <th></th>\n",
              "      <th>Model_A_Evaluation</th>\n",
              "      <th>Model_B_Evaluation</th>\n",
              "    </tr>\n",
              "  </thead>\n",
              "  <tbody>\n",
              "    <tr>\n",
              "      <th>MAE</th>\n",
              "      <td>10013.2</td>\n",
              "      <td>9734.3</td>\n",
              "    </tr>\n",
              "    <tr>\n",
              "      <th>MSE</th>\n",
              "      <td>280007165.0</td>\n",
              "      <td>264825495.8</td>\n",
              "    </tr>\n",
              "    <tr>\n",
              "      <th>RMSE</th>\n",
              "      <td>16733.4</td>\n",
              "      <td>16273.5</td>\n",
              "    </tr>\n",
              "  </tbody>\n",
              "</table>\n",
              "</div>\n",
              "      <button class=\"colab-df-convert\" onclick=\"convertToInteractive('df-fe690aef-7ee1-4f85-8673-8a4de4fd9012')\"\n",
              "              title=\"Convert this dataframe to an interactive table.\"\n",
              "              style=\"display:none;\">\n",
              "        \n",
              "  <svg xmlns=\"http://www.w3.org/2000/svg\" height=\"24px\"viewBox=\"0 0 24 24\"\n",
              "       width=\"24px\">\n",
              "    <path d=\"M0 0h24v24H0V0z\" fill=\"none\"/>\n",
              "    <path d=\"M18.56 5.44l.94 2.06.94-2.06 2.06-.94-2.06-.94-.94-2.06-.94 2.06-2.06.94zm-11 1L8.5 8.5l.94-2.06 2.06-.94-2.06-.94L8.5 2.5l-.94 2.06-2.06.94zm10 10l.94 2.06.94-2.06 2.06-.94-2.06-.94-.94-2.06-.94 2.06-2.06.94z\"/><path d=\"M17.41 7.96l-1.37-1.37c-.4-.4-.92-.59-1.43-.59-.52 0-1.04.2-1.43.59L10.3 9.45l-7.72 7.72c-.78.78-.78 2.05 0 2.83L4 21.41c.39.39.9.59 1.41.59.51 0 1.02-.2 1.41-.59l7.78-7.78 2.81-2.81c.8-.78.8-2.07 0-2.86zM5.41 20L4 18.59l7.72-7.72 1.47 1.35L5.41 20z\"/>\n",
              "  </svg>\n",
              "      </button>\n",
              "      \n",
              "  <style>\n",
              "    .colab-df-container {\n",
              "      display:flex;\n",
              "      flex-wrap:wrap;\n",
              "      gap: 12px;\n",
              "    }\n",
              "\n",
              "    .colab-df-convert {\n",
              "      background-color: #E8F0FE;\n",
              "      border: none;\n",
              "      border-radius: 50%;\n",
              "      cursor: pointer;\n",
              "      display: none;\n",
              "      fill: #1967D2;\n",
              "      height: 32px;\n",
              "      padding: 0 0 0 0;\n",
              "      width: 32px;\n",
              "    }\n",
              "\n",
              "    .colab-df-convert:hover {\n",
              "      background-color: #E2EBFA;\n",
              "      box-shadow: 0px 1px 2px rgba(60, 64, 67, 0.3), 0px 1px 3px 1px rgba(60, 64, 67, 0.15);\n",
              "      fill: #174EA6;\n",
              "    }\n",
              "\n",
              "    [theme=dark] .colab-df-convert {\n",
              "      background-color: #3B4455;\n",
              "      fill: #D2E3FC;\n",
              "    }\n",
              "\n",
              "    [theme=dark] .colab-df-convert:hover {\n",
              "      background-color: #434B5C;\n",
              "      box-shadow: 0px 1px 3px 1px rgba(0, 0, 0, 0.15);\n",
              "      filter: drop-shadow(0px 1px 2px rgba(0, 0, 0, 0.3));\n",
              "      fill: #FFFFFF;\n",
              "    }\n",
              "  </style>\n",
              "\n",
              "      <script>\n",
              "        const buttonEl =\n",
              "          document.querySelector('#df-fe690aef-7ee1-4f85-8673-8a4de4fd9012 button.colab-df-convert');\n",
              "        buttonEl.style.display =\n",
              "          google.colab.kernel.accessAllowed ? 'block' : 'none';\n",
              "\n",
              "        async function convertToInteractive(key) {\n",
              "          const element = document.querySelector('#df-fe690aef-7ee1-4f85-8673-8a4de4fd9012');\n",
              "          const dataTable =\n",
              "            await google.colab.kernel.invokeFunction('convertToInteractive',\n",
              "                                                     [key], {});\n",
              "          if (!dataTable) return;\n",
              "\n",
              "          const docLinkHtml = 'Like what you see? Visit the ' +\n",
              "            '<a target=\"_blank\" href=https://colab.research.google.com/notebooks/data_table.ipynb>data table notebook</a>'\n",
              "            + ' to learn more about interactive tables.';\n",
              "          element.innerHTML = '';\n",
              "          dataTable['output_type'] = 'display_data';\n",
              "          await google.colab.output.renderOutput(dataTable, element);\n",
              "          const docLink = document.createElement('div');\n",
              "          docLink.innerHTML = docLinkHtml;\n",
              "          element.appendChild(docLink);\n",
              "        }\n",
              "      </script>\n",
              "    </div>\n",
              "  </div>\n",
              "  "
            ],
            "text/plain": [
              "      Model_A_Evaluation  Model_B_Evaluation\n",
              "MAE              10013.2              9734.3\n",
              "MSE          280007165.0         264825495.8\n",
              "RMSE             16733.4             16273.5"
            ]
          },
          "metadata": {},
          "execution_count": 869
        }
      ]
    },
    {
      "cell_type": "markdown",
      "source": [
        "Considering RMSE as a evaluation metric Model B is slighly better than Model A "
      ],
      "metadata": {
        "id": "SIj8S7vVSwOM"
      }
    },
    {
      "cell_type": "markdown",
      "source": [
        "## II. Plotting both Model A & B Predictions against test"
      ],
      "metadata": {
        "id": "YL4MVbXMTewx"
      }
    },
    {
      "cell_type": "markdown",
      "source": [
        "Model A"
      ],
      "metadata": {
        "id": "rKIUMcS6Tlj2"
      }
    },
    {
      "cell_type": "code",
      "source": [
        "# Linear Regression Model's Prediction compared with Test Data\n",
        "ss_train['Sales'].plot(legend = True, label = 'Train')\n",
        "ss_test['Sales'].plot(legend = True, label = 'Orignal', figsize = (10,5), color = 'orange')\n",
        "ss_lr_df['Model_A_Pred'].plot(legend = True, label = 'Model A', color = 'green')\n",
        "plt.title('Train, Test and Predicted (using Model A)')"
      ],
      "metadata": {
        "colab": {
          "base_uri": "https://localhost:8080/",
          "height": 0
        },
        "id": "75gvqBPBTfJN",
        "outputId": "d91f66f8-8d28-4a6a-bf48-c376639f88e3"
      },
      "execution_count": 870,
      "outputs": [
        {
          "output_type": "execute_result",
          "data": {
            "text/plain": [
              "Text(0.5, 1.0, 'Train, Test and Predicted (using Model A)')"
            ]
          },
          "metadata": {},
          "execution_count": 870
        },
        {
          "output_type": "display_data",
          "data": {
            "image/png": "[encoded data removed]",
            "text/plain": [
              "<Figure size 720x360 with 1 Axes>"
            ]
          },
          "metadata": {
            "needs_background": "light"
          }
        }
      ]
    },
    {
      "cell_type": "markdown",
      "source": [
        "Model B"
      ],
      "metadata": {
        "id": "Wh3DZEOeTnur"
      }
    },
    {
      "cell_type": "code",
      "source": [
        "# Linear Regression Model's Prediction compared with Test Data\n",
        "ss_train['Sales'].plot(legend = True, label = 'Train')\n",
        "ss_test['Sales'].plot(legend = True, label = 'Orignal', figsize = (10,5), color = 'orange')\n",
        "ss_lr_df['Model_B_Pred'].plot(legend = True, label = 'Model B', color = 'maroon')\n",
        "plt.title('Train, Test and Predicted (Using Model B)')"
      ],
      "metadata": {
        "colab": {
          "base_uri": "https://localhost:8080/",
          "height": 0
        },
        "id": "Q0a3oziOR5ko",
        "outputId": "71a8f3ac-d904-4cfa-e822-eef33a30a21b"
      },
      "execution_count": 871,
      "outputs": [
        {
          "output_type": "execute_result",
          "data": {
            "text/plain": [
              "Text(0.5, 1.0, 'Train, Test and Predicted (Using Model B)')"
            ]
          },
          "metadata": {},
          "execution_count": 871
        },
        {
          "output_type": "display_data",
          "data": {
            "image/png": "[encoded data removed]",
            "text/plain": [
              "<Figure size 720x360 with 1 Axes>"
            ]
          },
          "metadata": {
            "needs_background": "light"
          }
        }
      ]
    },
    {
      "cell_type": "markdown",
      "source": [
        "Model A and B"
      ],
      "metadata": {
        "id": "-IfPrwRET6sG"
      }
    },
    {
      "cell_type": "code",
      "source": [
        "# Linear Regression Model's Prediction compared with Test Data\n",
        "ss_train['Sales'].plot(legend = True, label = 'Train')\n",
        "ss_test['Sales'].plot(legend = True, label = 'Orignal', figsize = (10,5), color = 'orange')\n",
        "ss_lr_df['Model_A_Pred'].plot(legend = True, label = 'Model A', color = 'green')\n",
        "ss_lr_df['Model_B_Pred'].plot(legend = True, label = 'Model B', color = 'maroon')\n",
        "plt.title('Model A and B against Test Data')"
      ],
      "metadata": {
        "colab": {
          "base_uri": "https://localhost:8080/",
          "height": 0
        },
        "id": "oIsBzaeaTd4h",
        "outputId": "2ae477a8-ce53-43ca-a786-f418255d3295"
      },
      "execution_count": 872,
      "outputs": [
        {
          "output_type": "execute_result",
          "data": {
            "text/plain": [
              "Text(0.5, 1.0, 'Model A and B against Test Data')"
            ]
          },
          "metadata": {},
          "execution_count": 872
        },
        {
          "output_type": "display_data",
          "data": {
            "image/png": "[encoded data removed]",
            "text/plain": [
              "<Figure size 720x360 with 1 Axes>"
            ]
          },
          "metadata": {
            "needs_background": "light"
          }
        }
      ]
    },
    {
      "cell_type": "markdown",
      "source": [
        "Visually difference between Model A and B is not clearly visible but again we can see that Model B is slighly predicting better than Model A in last few months."
      ],
      "metadata": {
        "id": "FyVW5rFHUKcL"
      }
    },
    {
      "cell_type": "markdown",
      "source": [
        "## III. Errors Plotted"
      ],
      "metadata": {
        "id": "8qtXmE_SViR2"
      }
    },
    {
      "cell_type": "code",
      "source": [
        "ss_lr_df['Model_A_Error'].plot(legend = True, label = 'Model A Errors', color = 'green')\n",
        "ss_lr_df['Model_B_Error'].plot(legend = True, label = 'Model B Errors', color = 'maroon')\n",
        "plt.title('Model A & B Errors')"
      ],
      "metadata": {
        "colab": {
          "base_uri": "https://localhost:8080/",
          "height": 0
        },
        "id": "wyG7P5pOUGJw",
        "outputId": "3e044dac-21d9-4449-b4ff-c1c039429efb"
      },
      "execution_count": 873,
      "outputs": [
        {
          "output_type": "execute_result",
          "data": {
            "text/plain": [
              "Text(0.5, 1.0, 'Model A & B Errors')"
            ]
          },
          "metadata": {},
          "execution_count": 873
        },
        {
          "output_type": "display_data",
          "data": {
            "image/png": "[encoded data removed]",
            "text/plain": [
              "<Figure size 432x288 with 1 Axes>"
            ]
          },
          "metadata": {
            "needs_background": "light"
          }
        }
      ]
    },
    {
      "cell_type": "markdown",
      "source": [
        "Again in last few months Error in Model A is slighlt higher than Model B"
      ],
      "metadata": {
        "id": "otN59ULQWJnp"
      }
    },
    {
      "cell_type": "markdown",
      "source": [
        "# Part D"
      ],
      "metadata": {
        "id": "y9OWh6TUWf-F"
      }
    },
    {
      "cell_type": "markdown",
      "source": [
        "Examine the additive model. Which month has the highest average sales during the\n",
        "year. What does the estimated trend coefficient in the model A mean?"
      ],
      "metadata": {
        "id": "v-t-zuUxWrsi"
      }
    },
    {
      "cell_type": "markdown",
      "source": [
        "## Solution Part D\n",
        "    I. Additive Seasonal Model Interpreted\n",
        "    II. Month with highest average sales\n",
        "    III. Estimated Trend Coeff Interpretation "
      ],
      "metadata": {
        "id": "qVy6bKrIWltW"
      }
    },
    {
      "cell_type": "markdown",
      "source": [
        "## I. Additive Model Interpreted"
      ],
      "metadata": {
        "id": "bAPKQF4iXGLd"
      }
    },
    {
      "cell_type": "markdown",
      "source": [
        "Yt = B0 + B1feb + B2mar +...+B11dec"
      ],
      "metadata": {
        "id": "34L9f4Xgfadb"
      }
    },
    {
      "cell_type": "markdown",
      "source": [
        "Coeff in Additive Seasonal Linear Reg Model"
      ],
      "metadata": {
        "id": "kV-eNPN_ZEbA"
      }
    },
    {
      "cell_type": "code",
      "source": [
        "print(intercept_coeff_add)"
      ],
      "metadata": {
        "colab": {
          "base_uri": "https://localhost:8080/"
        },
        "id": "OeCB-fg4Vx2T",
        "outputId": "8d4c96f3-6bb1-4ee4-8986-7a25d8767710"
      },
      "execution_count": 874,
      "outputs": [
        {
          "output_type": "stream",
          "name": "stdout",
          "text": [
            "{'Intercept': 4540.74, 'feb': 1364.75, 'mar': 4899.57, 'apr': 2198.66, 'may': 2427.65, 'jun': 3094.8, 'jul': 4460.75, 'aug': 2864.58, 'sep': 3223.64, 'oct': 4265.8, 'nov': 10477.12, 'dec': 26966.07}\n"
          ]
        }
      ]
    },
    {
      "cell_type": "markdown",
      "source": [
        "As January is our reference month that means that coefficient of feb i.e. 1365 implies that sales in february are 1365 units more than January. Same goes for every month. Coefficents are comparing it self with reference month that in our case is January."
      ],
      "metadata": {
        "id": "CfNL6lO-dBPX"
      }
    },
    {
      "cell_type": "markdown",
      "source": [
        "## II. Month with highest average sales"
      ],
      "metadata": {
        "id": "xvJJ67ZfdDdF"
      }
    },
    {
      "cell_type": "markdown",
      "source": [
        "If we interpret coeff from above we can see that December has 26,966 units more sales than Jan followed by November which is 10,477 units more than Jan. \n",
        "December is the month with highest average sales through whole timeline."
      ],
      "metadata": {
        "id": "OUuaqL9jdPCw"
      }
    },
    {
      "cell_type": "markdown",
      "source": [
        "## III. Estimated Trend Coeff Interpretation"
      ],
      "metadata": {
        "id": "0NXfKpgIeLa9"
      }
    },
    {
      "cell_type": "markdown",
      "source": [
        "Linear Trend Linear Regression coeff."
      ],
      "metadata": {
        "id": "OUGoEMBSeNDb"
      }
    },
    {
      "cell_type": "code",
      "source": [
        "print(intercept_coeff_lin)"
      ],
      "metadata": {
        "colab": {
          "base_uri": "https://localhost:8080/"
        },
        "id": "2msxudavdB8q",
        "outputId": "bfc9e935-6c4c-4e88-960b-8885aded2823"
      },
      "execution_count": 875,
      "outputs": [
        {
          "output_type": "stream",
          "name": "stdout",
          "text": [
            "{'Intercept': 3898.6, 't': 172.38}\n"
          ]
        }
      ]
    },
    {
      "cell_type": "markdown",
      "source": [
        "Here, coeff means that next month store will be selling 172.4 more units than previous month."
      ],
      "metadata": {
        "id": "SSe3WYenecWi"
      }
    },
    {
      "cell_type": "markdown",
      "source": [
        "# Part E"
      ],
      "metadata": {
        "id": "lo620Qzme5M6"
      }
    },
    {
      "cell_type": "markdown",
      "source": [
        "Examine the multiplicative model. What does the coefficient of October mean?\n",
        "What does the estimated trend coefficient in the model B mean?"
      ],
      "metadata": {
        "id": "bdMGA6Yxe7ml"
      }
    },
    {
      "cell_type": "markdown",
      "source": [
        "## Solution Part E\n",
        "    I. Multiplicative Seasonal Model Interpreted\n",
        "    II. October Month Coeff. \n",
        "    III. Estimated Trend Coeff Interpretation "
      ],
      "metadata": {
        "id": "0apTU_KefBN1"
      }
    },
    {
      "cell_type": "markdown",
      "source": [
        "## I. Multiplicative Seasonal Model Interpreted"
      ],
      "metadata": {
        "id": "aghjTIOQfQSw"
      }
    },
    {
      "cell_type": "markdown",
      "source": [
        "Yt = a*e^(B1*feb)*e^(B2*mar).......*e^(B11*dec)\n",
        "\n",
        "Log10(Yt) = B0 + B1feb + B2mar +...+B11dec"
      ],
      "metadata": {
        "id": "q2ZDeEeFgAs4"
      }
    },
    {
      "cell_type": "code",
      "source": [
        "print(intercept_coeff_mul)"
      ],
      "metadata": {
        "colab": {
          "base_uri": "https://localhost:8080/"
        },
        "id": "o-KrMEDbeZnz",
        "outputId": "80f8c00b-f686-4659-bd11-270e1f58075f"
      },
      "execution_count": 876,
      "outputs": [
        {
          "output_type": "stream",
          "name": "stdout",
          "text": [
            "{'Intercept': 3.61, 'feb': 0.13, 'mar': 0.32, 'apr': 0.19, 'may': 0.22, 'jun': 0.24, 'jul': 0.31, 'aug': 0.22, 'sep': 0.26, 'oct': 0.32, 'nov': 0.55, 'dec': 0.88}\n"
          ]
        }
      ]
    },
    {
      "cell_type": "markdown",
      "source": [
        "As we compare log of Sales (y) here against all the Months (X) and January is our reference month that means that coefficient of feb i.e. 0.13 implies that sales in february are 13% more than January. Same goes for every month. Coefficents are comparing it self with reference month that in our case is January. "
      ],
      "metadata": {
        "id": "Q9ft4b8rfmlf"
      }
    },
    {
      "cell_type": "markdown",
      "source": [
        "## II. October Month Coeff. "
      ],
      "metadata": {
        "id": "n7wysc-vgccG"
      }
    },
    {
      "cell_type": "code",
      "source": [
        "print(intercept_coeff_mul['oct'])"
      ],
      "metadata": {
        "colab": {
          "base_uri": "https://localhost:8080/"
        },
        "id": "lMSQ2X9yflJ7",
        "outputId": "980217d9-9ab8-44e0-e4f1-838c2696dc90"
      },
      "execution_count": 877,
      "outputs": [
        {
          "output_type": "stream",
          "name": "stdout",
          "text": [
            "0.32\n"
          ]
        }
      ]
    },
    {
      "cell_type": "markdown",
      "source": [
        "coefficient of feb i.e. 0.13 implies that sales in October are 32% more than January."
      ],
      "metadata": {
        "id": "4sT5YqyUgJzv"
      }
    },
    {
      "cell_type": "markdown",
      "source": [
        "## III. Estimated Trend Coeff Interpretation "
      ],
      "metadata": {
        "id": "IggDeBl8gha9"
      }
    },
    {
      "cell_type": "code",
      "source": [
        "print(intercept_coeff_exp)"
      ],
      "metadata": {
        "colab": {
          "base_uri": "https://localhost:8080/"
        },
        "id": "9LS-hnmIgH_l",
        "outputId": "16d7a4c5-64c5-4346-8603-c5ca6ddb155a"
      },
      "execution_count": 878,
      "outputs": [
        {
          "output_type": "stream",
          "name": "stdout",
          "text": [
            "{'Intercept': 3.6, 't': 0.01}\n"
          ]
        }
      ]
    },
    {
      "cell_type": "markdown",
      "source": [
        "Sales increase by 1% every month from previous month as per our coefficient."
      ],
      "metadata": {
        "id": "BazW9AQngkvb"
      }
    },
    {
      "cell_type": "markdown",
      "source": [
        "# Part F"
      ],
      "metadata": {
        "id": "aEKURxLniEw9"
      }
    },
    {
      "cell_type": "markdown",
      "source": [
        "Let us use Model B as it had low RMSE"
      ],
      "metadata": {
        "id": "dV5pQqYXiibL"
      }
    },
    {
      "cell_type": "markdown",
      "source": [
        "We will be using same model from part B to predict for Jan 2002 "
      ],
      "metadata": {
        "id": "EbvjBjs-ioDm"
      }
    },
    {
      "cell_type": "code",
      "source": [
        "Jan_2002_Test_lin = pd.DataFrame([85], columns = ['t'])\n",
        "Jan_2002_Test_mul = pd.DataFrame([[0, 0, 0, 0, 0, 0, 0, 0, 0, 0, 0]], columns = Months)"
      ],
      "metadata": {
        "id": "bNgOdwKxjG20"
      },
      "execution_count": 879,
      "outputs": []
    },
    {
      "cell_type": "code",
      "source": [
        "exp_Trend_F_log = exp_lr.predict(Jan_2002_Test_lin)\n",
        "mul_Season_F_log = mul_lr.predict(Jan_2002_Test_mul)\n",
        "exp_Trend_F = 10 ** exp_Trend_F_log\n",
        "mul_Season_F = 10 ** mul_Season_F_log"
      ],
      "metadata": {
        "id": "2bEvAheWizTg"
      },
      "execution_count": 880,
      "outputs": []
    },
    {
      "cell_type": "code",
      "source": [
        "Predicted_Jan_2002_f = exp_Trend_F + mul_Season_F\n",
        "print(Predicted_Jan_2002_f)"
      ],
      "metadata": {
        "colab": {
          "base_uri": "https://localhost:8080/"
        },
        "id": "6xpcuzVqguhi",
        "outputId": "18ab9ead-37c5-42c1-ba9d-3c3ebbc333b1"
      },
      "execution_count": 881,
      "outputs": [
        {
          "output_type": "stream",
          "name": "stdout",
          "text": [
            "[[26492.62720464]]\n"
          ]
        }
      ]
    },
    {
      "cell_type": "markdown",
      "source": [
        "# Part G"
      ],
      "metadata": {
        "id": "epYgyGWjswTG"
      }
    },
    {
      "cell_type": "markdown",
      "source": [
        "Plot the ACF and PACF plot until lag 20 of the residuals obtained from training set of\n",
        "the best model chosen. Comment on these plots and think what AR(p) model could\n",
        "be a good choice? "
      ],
      "metadata": {
        "id": "rbb8GAuGs1kv"
      }
    },
    {
      "cell_type": "code",
      "source": [
        "from statsmodels.tsa.stattools import acf, pacf\n",
        "from statsmodels.graphics.tsaplots import plot_acf, plot_pacf"
      ],
      "metadata": {
        "id": "zHHDzaQ4m07t"
      },
      "execution_count": 882,
      "outputs": []
    },
    {
      "cell_type": "markdown",
      "source": [
        "### We Will be Computing Residual in Training Set using Model B. "
      ],
      "metadata": {
        "id": "xeU6ivcz04on"
      }
    },
    {
      "cell_type": "code",
      "source": [
        "ss = ss[['Date', 'Sales']]\n",
        "\n",
        "ss_train_residual = pd.DataFrame()\n",
        "ss_train_residual['Date'] = ss_train['Date']\n",
        "ss_train_residual['Actual_Sales'] = ss_train['Sales']\n",
        "ss_train_residual[Months] = ss_train[Months]\n",
        "ss_train_residual['t'] = X_train_trend['t']\n",
        "\n",
        "# -- Calculating Multiplicative Seasonality on Train Set\n",
        "LR_multi_Prediction = pd.DataFrame(mul_lr.predict(ss_train_residual[Months]))  \n",
        "ss_train_residual['mul_season_prediction_log'] = LR_multi_Prediction\n",
        "ss_train_residual['mul_season_prediction'] = ss_train_residual['mul_season_prediction_log'].apply(lambda x: 10 ** x)\n",
        "\n",
        "# -- Calculating Exp Trend on Train Set\n",
        "LR_exp_Prediction = pd.DataFrame(exp_lr.predict(pd.DataFrame(ss_train_residual['t'])))  \n",
        "ss_train_residual['exp_trend_prediction_log'] = LR_exp_Prediction\n",
        "ss_train_residual['exp_trend_prediction'] = ss_train_residual['exp_trend_prediction_log'].apply(lambda x: 10 ** x)\n",
        "\n",
        "# -- Calculating Prediction using Multiplicative Seasonality + Exp Trend \n",
        "ss_train_residual['Model_B_Prediction'] = ss_train_residual['mul_season_prediction'] + ss_train_residual['exp_trend_prediction']\n",
        "\n",
        "# -- Calculating Residual(Errors)\n",
        "ss_train_residual['Residual_Model_B'] = ss_train_residual['Actual_Sales'] - ss_train_residual['Model_B_Prediction']\n",
        "\n",
        "ss_train_residual['Residual_Model_B'].plot(legend = True, label = 'Residual for Model B', color = 'red')\n",
        "plt.show()"
      ],
      "metadata": {
        "colab": {
          "base_uri": "https://localhost:8080/",
          "height": 265
        },
        "id": "-kt8Z5zMth-X",
        "outputId": "beaabc40-cbf6-4a01-f6f5-180cc1f42c5f"
      },
      "execution_count": 883,
      "outputs": [
        {
          "output_type": "display_data",
          "data": {
            "image/png": "[encoded data removed]",
            "text/plain": [
              "<Figure size 432x288 with 1 Axes>"
            ]
          },
          "metadata": {
            "needs_background": "light"
          }
        }
      ]
    },
    {
      "cell_type": "code",
      "source": [
        "plot_acf(ss_train_residual['Residual_Model_B'], lags=20)"
      ],
      "metadata": {
        "colab": {
          "base_uri": "https://localhost:8080/",
          "height": 545
        },
        "id": "WWBxjS6vtk7M",
        "outputId": "68d7dac7-1385-4db5-e78d-0b356cafaea4"
      },
      "execution_count": 884,
      "outputs": [
        {
          "output_type": "execute_result",
          "data": {
            "image/png": "[encoded data removed]",
            "text/plain": [
              "<Figure size 432x288 with 1 Axes>"
            ]
          },
          "metadata": {},
          "execution_count": 884
        },
        {
          "output_type": "display_data",
          "data": {
            "image/png": "[encoded data removed]",
            "text/plain": [
              "<Figure size 432x288 with 1 Axes>"
            ]
          },
          "metadata": {
            "needs_background": "light"
          }
        }
      ]
    },
    {
      "cell_type": "code",
      "source": [
        "plot_pacf(ss_train_residual['Residual_Model_B'], lags=20)"
      ],
      "metadata": {
        "colab": {
          "base_uri": "https://localhost:8080/",
          "height": 599
        },
        "id": "CXyClhpLtsl0",
        "outputId": "2a6af91e-2c6a-4a5b-9287-b7c509282a05"
      },
      "execution_count": 885,
      "outputs": [
        {
          "output_type": "stream",
          "name": "stderr",
          "text": [
            "/usr/local/lib/python3.7/dist-packages/statsmodels/graphics/tsaplots.py:353: FutureWarning: The default method 'yw' can produce PACF values outside of the [-1,1] interval. After 0.13, the default will change tounadjusted Yule-Walker ('ywm'). You can use this method now by setting method='ywm'.\n",
            "  FutureWarning,\n"
          ]
        },
        {
          "output_type": "execute_result",
          "data": {
            "image/png": "[encoded data removed]",
            "text/plain": [
              "<Figure size 432x288 with 1 Axes>"
            ]
          },
          "metadata": {},
          "execution_count": 885
        },
        {
          "output_type": "display_data",
          "data": {
            "image/png": "[encoded data removed]",
            "text/plain": [
              "<Figure size 432x288 with 1 Axes>"
            ]
          },
          "metadata": {
            "needs_background": "light"
          }
        }
      ]
    },
    {
      "cell_type": "markdown",
      "source": [
        "Both ACF and PACF shows High Correlation at Lag 15."
      ],
      "metadata": {
        "id": "100ORUagzUUo"
      }
    },
    {
      "cell_type": "markdown",
      "source": [
        "AR(15) (Auto Regressive with Lag 15) will be appropriate in our case."
      ],
      "metadata": {
        "id": "YF1kZYCh2Cqn"
      }
    },
    {
      "cell_type": "markdown",
      "source": [
        "# Part H"
      ],
      "metadata": {
        "id": "1-IDYQb74czN"
      }
    },
    {
      "cell_type": "markdown",
      "source": [
        "Fit an AR(p) model as you think appropriate from part (g) to the training set residuals\n",
        "and produce the regression coefficients. Was your intuition at part (g) correct?"
      ],
      "metadata": {
        "id": "o4r-jWr84efv"
      }
    },
    {
      "cell_type": "markdown",
      "source": [
        "## Fitting the AR(15) model to train set"
      ],
      "metadata": {
        "id": "P2oeVLZi8Bwu"
      }
    },
    {
      "cell_type": "code",
      "source": [
        "ss_train = ss_train[['Date', 'Sales']]\n",
        "ss_test = ss_test[['Date', 'Sales']]"
      ],
      "metadata": {
        "id": "1zCbbuvY5xTs"
      },
      "execution_count": 886,
      "outputs": []
    },
    {
      "cell_type": "code",
      "source": [
        "from statsmodels.tsa.ar_model import AutoReg"
      ],
      "metadata": {
        "id": "Vx2nZF0pzCi9"
      },
      "execution_count": 887,
      "outputs": []
    },
    {
      "cell_type": "code",
      "source": [
        "AR_15 = AutoReg(ss_train_residual['Residual_Model_B'], lags=15).fit()"
      ],
      "metadata": {
        "id": "FP-CTk0d40gZ"
      },
      "execution_count": 888,
      "outputs": []
    },
    {
      "cell_type": "code",
      "source": [
        "test_count = ss_test['Date'].count()\n",
        "forecasts = AR_15.forecast(test_count).tolist()\n",
        "ss_ar_df = pd.DataFrame(index = ss_test.index)\n",
        "ss_ar_df['Date'] = ss_test['Date']\n",
        "ss_ar_df['Actual_Residual'] = ss_lr_df['Model_B_Error']\n",
        "ss_ar_df['Pred_AR15_Residual'] = forecasts"
      ],
      "metadata": {
        "id": "L6cv7EF26hAH"
      },
      "execution_count": 889,
      "outputs": []
    },
    {
      "cell_type": "code",
      "source": [
        "# Linear Regression Model's Prediction compared with Test Data\n",
        "ss_train_residual['Residual_Model_B'].plot(legend = True, label = 'Residual Train')\n",
        "ss_ar_df['Actual_Residual'].plot(legend = True, label = 'Actual Residual', figsize = (10,5), color = 'orange')\n",
        "ss_ar_df['Pred_AR15_Residual'].plot(legend = True, label = 'AR(1) Prediction', color = 'maroon')\n",
        "plt.title('Predicted Residual (Using Model AR(15))')"
      ],
      "metadata": {
        "colab": {
          "base_uri": "https://localhost:8080/",
          "height": 354
        },
        "id": "msIN6Pvu7SCt",
        "outputId": "81723cfa-bfbe-44f0-da2d-b960fad42ed9"
      },
      "execution_count": 890,
      "outputs": [
        {
          "output_type": "execute_result",
          "data": {
            "text/plain": [
              "Text(0.5, 1.0, 'Predicted Residual (Using Model AR(15))')"
            ]
          },
          "metadata": {},
          "execution_count": 890
        },
        {
          "output_type": "display_data",
          "data": {
            "image/png": "[encoded data removed]",
            "text/plain": [
              "<Figure size 720x360 with 1 Axes>"
            ]
          },
          "metadata": {
            "needs_background": "light"
          }
        }
      ]
    },
    {
      "cell_type": "code",
      "source": [
        "# AR12 Evaluation\n",
        "MAE = metrics.mean_absolute_error(ss_ar_df['Actual_Residual'], ss_ar_df['Pred_AR15_Residual'])\n",
        "MSE = metrics.mean_squared_error(ss_ar_df['Actual_Residual'], ss_ar_df['Pred_AR15_Residual'])\n",
        "RMSE = np.sqrt(MSE)\n",
        "\n",
        "AR15_Eval = {\n",
        "    \"MAE\": MAE,\n",
        "    \"MSE\": MSE,\n",
        "    \"RMSE\": RMSE\n",
        "}\n",
        "\n",
        "print(AR15_Eval)"
      ],
      "metadata": {
        "colab": {
          "base_uri": "https://localhost:8080/"
        },
        "id": "C6ujSFWv7z0z",
        "outputId": "b69f96a0-feaf-4c0b-d947-7b8609f8504b"
      },
      "execution_count": 891,
      "outputs": [
        {
          "output_type": "stream",
          "name": "stdout",
          "text": [
            "{'MAE': 11604.906561495844, 'MSE': 369550639.0720348, 'RMSE': 19223.699931907875}\n"
          ]
        }
      ]
    },
    {
      "cell_type": "markdown",
      "source": [
        "There is a correlation in between current month and lag 15 month but the magnitude increase in seasonality is huge. We are performing univariate analysis which means we are considering past sales only to predict furture sales. \n",
        "\n",
        "Increase in sales in the month of November and December in last 2 years is because of some other factor(s) may be tourism has increased in New York or their can be some other factor impacting in magnitude increase. I think as a univariate analysis Model B and AR15 has done decent job but we need to consider some other variable in forecasting Souvenir Sales and make a multivariate model.\n",
        "\n",
        "Also, Time Series model require regular training as trend changes frequently."
      ],
      "metadata": {
        "id": "KvXa7Q_d9Bst"
      }
    },
    {
      "cell_type": "markdown",
      "source": [
        "# Part I"
      ],
      "metadata": {
        "id": "ZTqIrkhsAJUW"
      }
    },
    {
      "cell_type": "markdown",
      "source": [
        "Now, using the best regression model and AR(p) model, forecast the sales in January\n",
        "2002. Think carefully which data to use for model fitting in this case."
      ],
      "metadata": {
        "id": "i-PZMGxMAKaA"
      }
    },
    {
      "cell_type": "markdown",
      "source": [
        "### I will be using Model B to predict trend and seasonality (From Part f).\n",
        "### To predict Residual I will be using AR(15). "
      ],
      "metadata": {
        "id": "7XjG3Nf5A6Ag"
      }
    },
    {
      "cell_type": "markdown",
      "source": [
        "### Fitting the Model AR12"
      ],
      "metadata": {
        "id": "NvXJWngLBejw"
      }
    },
    {
      "cell_type": "code",
      "source": [
        "Jan_2002_Residual_Pred = AR_15.forecast(test_count+1).tolist()[17]\n",
        "Jan_2002_Residual_Pred"
      ],
      "metadata": {
        "colab": {
          "base_uri": "https://localhost:8080/"
        },
        "id": "PLq4Sdxi_V9Y",
        "outputId": "ae394917-cec2-437d-b133-0abb1342b7e6"
      },
      "execution_count": 892,
      "outputs": [
        {
          "output_type": "execute_result",
          "data": {
            "text/plain": [
              "-8710.45714842877"
            ]
          },
          "metadata": {},
          "execution_count": 892
        }
      ]
    },
    {
      "cell_type": "code",
      "source": [
        "Predicted_Jan_2002 = exp_Trend_F + mul_Season_F - Jan_2002_Residual_Pred\n",
        "Predicted_Jan_2002 = Predicted_Jan_2002[0][0]\n",
        "print(Predicted_Jan_2002)"
      ],
      "metadata": {
        "colab": {
          "base_uri": "https://localhost:8080/"
        },
        "id": "VbeW4jYUAzuP",
        "outputId": "bfc957e4-9687-41a9-a03f-75feabc565d9"
      },
      "execution_count": 893,
      "outputs": [
        {
          "output_type": "stream",
          "name": "stdout",
          "text": [
            "35203.08435306871\n"
          ]
        }
      ]
    },
    {
      "cell_type": "markdown",
      "source": [
        "# ---------------------------------------------------------- ---------------------------------------------------------- ---------------------------------------------------------- ---------------------------------------------------------- ---------------------------------------------------------- ---------------------------------------------------------- ---------------------------------------------------------- ---------------------------------------------------------- ---------------------------------------------------------- #"
      ],
      "metadata": {
        "id": "JYy_jvj3CTpQ"
      }
    },
    {
      "cell_type": "markdown",
      "source": [
        "# Q2"
      ],
      "metadata": {
        "id": "8dGn3UxGCL4V"
      }
    },
    {
      "cell_type": "markdown",
      "source": [
        "# Part a."
      ],
      "metadata": {
        "id": "VC-yOKn1COqL"
      }
    },
    {
      "cell_type": "markdown",
      "source": [
        "## Explain the key difference between cross sectional and time series data?"
      ],
      "metadata": {
        "id": "azkbBQIXCz42"
      }
    },
    {
      "cell_type": "markdown",
      "source": [
        "### Solution\n",
        "\n",
        "### Time Series Data means that observed values in the dataset are recorded at regular interval of time. For Example Total Monthly Sales, ECG Data, Weather report, etc. Data can be collected per second, minute, hourly, daily etc. in any regular interval of time.\n",
        "\n",
        "### Whereas Cross Section Data means that observed values in the dataset are recorded at random time. There is no regularity in time while collecting the data. "
      ],
      "metadata": {
        "id": "4Db7lP1hC-97"
      }
    },
    {
      "cell_type": "markdown",
      "source": [
        "# Part b."
      ],
      "metadata": {
        "id": "KZF9357BEsvm"
      }
    },
    {
      "cell_type": "markdown",
      "source": [
        "## Explain the difference between seasonality and cyclicality?"
      ],
      "metadata": {
        "id": "5lrLZ_sfEscy"
      }
    },
    {
      "cell_type": "markdown",
      "source": [
        "### Solution\n",
        "\n",
        "### Seasonality is similar magnitude change in data after regular time interval. Like for example every year pollution in Delhi rises to peak in the month of November whereas it reduces to almost 50% (Hypothetical figure) in the month of April. So every year peak comes in November and lowest point in April, similarly for every month the propotion or rank is same almost.  \n",
        "\n",
        "### Cyclicality refers to trend. So, Seasonality is maintained but aggregate numbers can change for few time interval. For Example, Offline Retail Sale during Diwali goes to peak every year but regularly for last 5 years during Diwali Offline Retail Sale is reducing. So within a year Diwali shows peak of Sales but next year sales number at Diwali is less than pervious year sales number and this is happening from last 5 years because of the influence of E Commerce, this is known as Cyclicality or in this case downward trend."
      ],
      "metadata": {
        "id": "rip1dbkyE4U-"
      }
    },
    {
      "cell_type": "markdown",
      "source": [
        ""
      ],
      "metadata": {
        "id": "phRJekAsIYM0"
      }
    },
    {
      "cell_type": "markdown",
      "source": [
        "# Part c."
      ],
      "metadata": {
        "id": "QWM0TABaIYsG"
      }
    },
    {
      "cell_type": "markdown",
      "source": [
        "## Explain why centered moving average is not-considered suitable for forecasting?"
      ],
      "metadata": {
        "id": "6Wh0_UZZIdWf"
      }
    },
    {
      "cell_type": "markdown",
      "source": [
        "### CMA does not give last data point. It moves behind Trailing Moving Average (TMA) and as we are forecasting for future TMA becomes more logical as it stops at last time period."
      ],
      "metadata": {
        "id": "VaN9xAN3IfBD"
      }
    },
    {
      "cell_type": "markdown",
      "source": [
        "# Part d."
      ],
      "metadata": {
        "id": "0n9tsLhNJMdt"
      }
    },
    {
      "cell_type": "markdown",
      "source": [
        "## Explain stationarity and why is it important for some time series forecasting methods?"
      ],
      "metadata": {
        "id": "dT-EQ8KNJRy0"
      }
    },
    {
      "cell_type": "markdown",
      "source": [
        "### Solution\n",
        " \n",
        "### Stationary removes the cyclicality or trend of a time series. As per my understanding Cyclicality is not predictable with majority of the data given. It is easy to predict Seasonality. In a way Cyclicality disturbs the calculation of Seasonality. So, it becomes important to remove trend and make it Stationary.  "
      ],
      "metadata": {
        "id": "BL4XvJ47J2LY"
      }
    },
    {
      "cell_type": "markdown",
      "source": [
        "# Part e."
      ],
      "metadata": {
        "id": "W_l8-2zXLFpf"
      }
    },
    {
      "cell_type": "markdown",
      "source": [
        "## How does an ACF plot help to identify whether a time series is stationary or not?"
      ],
      "metadata": {
        "id": "h8ria_ayLI2V"
      }
    },
    {
      "cell_type": "markdown",
      "source": [
        "### Solution\n",
        "\n",
        "### If ACF reduce to 0 at faster pace (Less lags) then that shows that data is not Stationary. Whereas, if it is slow in going to 0 (More Lags) then data is Stationary. It captures trend while checking correlation. "
      ],
      "metadata": {
        "id": "SOblSNm-LO7Y"
      }
    },
    {
      "cell_type": "markdown",
      "source": [
        "# Part f."
      ],
      "metadata": {
        "id": "pflo1nLjL3iD"
      }
    },
    {
      "cell_type": "markdown",
      "source": [
        "## Why partitioning time series data into training, validation, and test set is not recommended? Briefly describe two considerations for choosing the width of validation period."
      ],
      "metadata": {
        "id": "VEMOZWivL5zV"
      }
    },
    {
      "cell_type": "markdown",
      "source": [
        "### Solution\n",
        "\n",
        "### It is not prefered because trend or cyclicality keeps on changing and they are unpredictable with older data so to improve accuracy latest data is always prefered.\n",
        "\n",
        "### Goal of Forecasting - How many time periods are required for business needs. For Example forcasting of next 3 months is enough so we should evaluate our accuracy of model till next 3 months. \n",
        "\n",
        "### Seasonality- At least a complete cycle of Seasonality should be kept for Training Set.  "
      ],
      "metadata": {
        "id": "KaKGDlU6MD5_"
      }
    },
    {
      "cell_type": "markdown",
      "source": [
        ""
      ],
      "metadata": {
        "id": "gmExkNdBMu9O"
      }
    },
    {
      "cell_type": "markdown",
      "source": [
        "# Part g."
      ],
      "metadata": {
        "id": "4SVUbNbQMvXM"
      }
    },
    {
      "cell_type": "markdown",
      "source": [
        "## Both smoothing and ARIMA method of forecasting can handle time series data with missing value. True/False. Explain?"
      ],
      "metadata": {
        "id": "kFSFKiK_M1Xw"
      }
    },
    {
      "cell_type": "markdown",
      "source": [
        "### Solution\n",
        "\n",
        "### False, We would say this because it will not be able to capture auto regression and will skip important data points. We need to perform good quality imputation before fitting the model with ARIMA and Smoothing. "
      ],
      "metadata": {
        "id": "wuwZQo7tNRUh"
      }
    },
    {
      "cell_type": "markdown",
      "source": [
        "# Part h."
      ],
      "metadata": {
        "id": "AhnPkLt1OBc2"
      }
    },
    {
      "cell_type": "markdown",
      "source": [
        "## Additive and multiplicative decomposition differ in the way the trend is computed. True / False? Explain?"
      ],
      "metadata": {
        "id": "PJ3iI_6mN7iI"
      }
    },
    {
      "cell_type": "markdown",
      "source": [
        "### Solution\n",
        "\n",
        "### True.\n",
        "### Additive can capture linear trend with good accuracy whereas Multiplicative is good with exponential trends. We simply add trend, seasonality and Error in Additive whereas in Multiplicative we multiply these components."
      ],
      "metadata": {
        "id": "QZ7295VIOOhu"
      }
    },
    {
      "cell_type": "markdown",
      "source": [
        "# Part i."
      ],
      "metadata": {
        "id": "9Sjvwu1cOtie"
      }
    },
    {
      "cell_type": "markdown",
      "source": [
        "## After accounting for trend and seasonality in a time series data, the analyst observes that there is still correlation left amongst the residuals of the time series. Is that a good or bad news for the analyst? Explain?"
      ],
      "metadata": {
        "id": "LYhhrg9vOnIk"
      }
    },
    {
      "cell_type": "markdown",
      "source": [
        "### Solution\n",
        "\n",
        "### It is a Bad Newz.\n",
        "\n",
        "### As still there is gap in determing right trend and seasonality as model is regularly predicting wrong with pattern in errors. Maybe the trend is exponential and model is using linear or degree of exponential is low. Correlation signifies that something predictable is missing. If Residual was random and not correlated then it was not possible to predict."
      ],
      "metadata": {
        "id": "Q8Wlwv4UOwI_"
      }
    },
    {
      "cell_type": "code",
      "source": [
        ""
      ],
      "metadata": {
        "id": "yZASXP6lEx6i"
      },
      "execution_count": 893,
      "outputs": []
    }
  ]
}